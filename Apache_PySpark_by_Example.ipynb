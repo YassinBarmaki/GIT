{
  "nbformat": 4,
  "nbformat_minor": 0,
  "metadata": {
    "colab": {
      "provenance": [],
      "collapsed_sections": [
        "D7Dw2UpQ08-9",
        "hiKFyArf14B0",
        "9lAyzg282V_4",
        "-aQQ2gBF3Azz",
        "oSOpIOhJ4etN"
      ],
      "include_colab_link": true
    },
    "kernelspec": {
      "name": "python3",
      "display_name": "Python 3"
    },
    "language_info": {
      "name": "python"
    }
  },
  "cells": [
    {
      "cell_type": "markdown",
      "metadata": {
        "id": "view-in-github",
        "colab_type": "text"
      },
      "source": [
        "<a href=\"https://colab.research.google.com/github/YassinBarmaki/GIT/blob/main/Apache_PySpark_by_Example.ipynb\" target=\"_parent\"><img src=\"https://colab.research.google.com/assets/colab-badge.svg\" alt=\"Open In Colab\"/></a>"
      ]
    },
    {
      "cell_type": "markdown",
      "source": [
        "# Apache PySpark by Example"
      ],
      "metadata": {
        "id": "ZZPtipYTrbgk"
      }
    },
    {
      "cell_type": "markdown",
      "source": [
        "**[June 2023 update]**\n",
        "\n",
        "I've consolidated all the notebooks for this course into a single notebook. (The course videos will still show individual notebooks)\n"
      ],
      "metadata": {
        "id": "dTZDpUrdtXZf"
      }
    },
    {
      "cell_type": "markdown",
      "metadata": {
        "id": "qJoeN3e8_Gzk"
      },
      "source": [
        "## Introduction to Google Colab"
      ]
    },
    {
      "cell_type": "markdown",
      "metadata": {
        "id": "_N5-lspH_N8B"
      },
      "source": [
        "### Jupyter notebook basics"
      ]
    },
    {
      "cell_type": "markdown",
      "metadata": {
        "id": "6Ul54hAYyHyd"
      },
      "source": [
        "#### Code cells"
      ]
    },
    {
      "cell_type": "code",
      "execution_count": 1,
      "metadata": {
        "id": "j38beRUTCI5c",
        "colab": {
          "base_uri": "https://localhost:8080/"
        },
        "outputId": "fd80872e-e05d-45e5-bc0b-d84ba0f9b722"
      },
      "outputs": [
        {
          "output_type": "execute_result",
          "data": {
            "text/plain": [
              "10"
            ]
          },
          "metadata": {},
          "execution_count": 1
        }
      ],
      "source": [
        "2*5"
      ]
    },
    {
      "cell_type": "code",
      "execution_count": 2,
      "metadata": {
        "id": "_Jewe_e9CIYa"
      },
      "outputs": [],
      "source": [
        "import pandas as pd"
      ]
    },
    {
      "cell_type": "code",
      "execution_count": null,
      "metadata": {
        "id": "g8Y7w6_CCIIT"
      },
      "outputs": [],
      "source": []
    },
    {
      "cell_type": "markdown",
      "metadata": {
        "id": "VOqLNkRKyUIS"
      },
      "source": [
        "#### Text cells"
      ]
    },
    {
      "cell_type": "markdown",
      "source": [
        "#heading\n"
      ],
      "metadata": {
        "id": "hu0LhgPoB8e-"
      }
    },
    {
      "cell_type": "markdown",
      "source": [
        "##sub heading\n"
      ],
      "metadata": {
        "id": "8WAn0iLVB_eX"
      }
    },
    {
      "cell_type": "code",
      "execution_count": 4,
      "metadata": {
        "id": "neY8vxXzyXDq"
      },
      "outputs": [],
      "source": [
        "\n"
      ]
    },
    {
      "cell_type": "markdown",
      "metadata": {
        "id": "X6zdrH15_CCW"
      },
      "source": [
        "### Access to the shell"
      ]
    },
    {
      "cell_type": "code",
      "execution_count": 5,
      "metadata": {
        "id": "zdO9sjSdEVnr",
        "colab": {
          "base_uri": "https://localhost:8080/"
        },
        "outputId": "623229a7-bed6-45a1-f8e3-d4a5a1b6d396"
      },
      "outputs": [
        {
          "output_type": "stream",
          "name": "stdout",
          "text": [
            "sample_data\n"
          ]
        }
      ],
      "source": [
        "!ls"
      ]
    },
    {
      "cell_type": "code",
      "execution_count": 6,
      "metadata": {
        "id": "0785Cp2qD0VX",
        "colab": {
          "base_uri": "https://localhost:8080/"
        },
        "outputId": "2a4b7a48-44d0-43c5-edf9-e0473acbc6a8"
      },
      "outputs": [
        {
          "output_type": "stream",
          "name": "stdout",
          "text": [
            "/content\n"
          ]
        }
      ],
      "source": [
        "!pwd"
      ]
    },
    {
      "cell_type": "code",
      "execution_count": null,
      "metadata": {
        "id": "QF9e3lDDEX3I"
      },
      "outputs": [],
      "source": [
        "import os"
      ]
    },
    {
      "cell_type": "code",
      "execution_count": null,
      "metadata": {
        "id": "sfzbZVIwEeaF"
      },
      "outputs": [],
      "source": []
    },
    {
      "cell_type": "code",
      "execution_count": null,
      "metadata": {
        "id": "Ip_onRMlEi_p"
      },
      "outputs": [],
      "source": []
    },
    {
      "cell_type": "code",
      "execution_count": null,
      "metadata": {
        "id": "DN5HQbosEm1k"
      },
      "outputs": [],
      "source": []
    },
    {
      "cell_type": "code",
      "execution_count": null,
      "metadata": {
        "id": "IX947X96Gdpj"
      },
      "outputs": [],
      "source": []
    },
    {
      "cell_type": "markdown",
      "metadata": {
        "id": "Dd6t0uFzuR4X"
      },
      "source": [
        "## Install Spark"
      ]
    },
    {
      "cell_type": "markdown",
      "source": [
        "- Google colab recently made some changes which breaks the Spark installation.\n",
        "- Please use the code below where we install from the pyspark package instead"
      ],
      "metadata": {
        "id": "qu34sKRJvhq_"
      }
    },
    {
      "cell_type": "code",
      "execution_count": 7,
      "metadata": {
        "id": "We2yp-o7Hgu9",
        "colab": {
          "base_uri": "https://localhost:8080/"
        },
        "outputId": "de2f19d0-c8ed-4f25-9b69-ae123c0eb891"
      },
      "outputs": [
        {
          "output_type": "stream",
          "name": "stdout",
          "text": [
            "Collecting pyspark==3.4.0\n",
            "  Downloading pyspark-3.4.0.tar.gz (310.8 MB)\n",
            "\u001b[2K     \u001b[90m━━━━━━━━━━━━━━━━━━━━━━━━━━━━━━━━━━━━━━━\u001b[0m \u001b[32m310.8/310.8 MB\u001b[0m \u001b[31m1.3 MB/s\u001b[0m eta \u001b[36m0:00:00\u001b[0m\n",
            "\u001b[?25h  Preparing metadata (setup.py) ... \u001b[?25l\u001b[?25hdone\n",
            "Requirement already satisfied: py4j==0.10.9.7 in /usr/local/lib/python3.11/dist-packages (from pyspark==3.4.0) (0.10.9.7)\n",
            "Building wheels for collected packages: pyspark\n",
            "  Building wheel for pyspark (setup.py) ... \u001b[?25l\u001b[?25hdone\n",
            "  Created wheel for pyspark: filename=pyspark-3.4.0-py2.py3-none-any.whl size=311317124 sha256=f567f26dd3c089e23567ca4436cbc00c8918e5a411b56ed9c9ad36bcd98e9d90\n",
            "  Stored in directory: /root/.cache/pip/wheels/fc/49/ad/5c21e362b2cc9fb6785cdf03f7864b96d8ca6521f1947e3e25\n",
            "Successfully built pyspark\n",
            "Installing collected packages: pyspark\n",
            "  Attempting uninstall: pyspark\n",
            "    Found existing installation: pyspark 3.5.5\n",
            "    Uninstalling pyspark-3.5.5:\n",
            "      Successfully uninstalled pyspark-3.5.5\n",
            "\u001b[31mERROR: pip's dependency resolver does not currently take into account all the packages that are installed. This behaviour is the source of the following dependency conflicts.\n",
            "google-spark-connect 0.5.2 requires pyspark>=3.5, but you have pyspark 3.4.0 which is incompatible.\u001b[0m\u001b[31m\n",
            "\u001b[0mSuccessfully installed pyspark-3.4.0\n"
          ]
        }
      ],
      "source": [
        "!pip install pyspark==3.4.0"
      ]
    },
    {
      "cell_type": "code",
      "execution_count": 8,
      "metadata": {
        "id": "QdrFO3yrwptm",
        "colab": {
          "base_uri": "https://localhost:8080/",
          "height": 219
        },
        "outputId": "a141cbee-48db-491c-9fbc-83f61d0ec0c4"
      },
      "outputs": [
        {
          "output_type": "execute_result",
          "data": {
            "text/plain": [
              "<pyspark.sql.session.SparkSession at 0x7bb0a0155d50>"
            ],
            "text/html": [
              "\n",
              "            <div>\n",
              "                <p><b>SparkSession - in-memory</b></p>\n",
              "                \n",
              "        <div>\n",
              "            <p><b>SparkContext</b></p>\n",
              "\n",
              "            <p><a href=\"http://a43a95b0cdfc:4040\">Spark UI</a></p>\n",
              "\n",
              "            <dl>\n",
              "              <dt>Version</dt>\n",
              "                <dd><code>v3.4.0</code></dd>\n",
              "              <dt>Master</dt>\n",
              "                <dd><code>local[*]</code></dd>\n",
              "              <dt>AppName</dt>\n",
              "                <dd><code>pyspark-shell</code></dd>\n",
              "            </dl>\n",
              "        </div>\n",
              "        \n",
              "            </div>\n",
              "        "
            ]
          },
          "metadata": {},
          "execution_count": 8
        }
      ],
      "source": [
        "from pyspark.sql import SparkSession\n",
        "spark = SparkSession.builder.master(\"local[*]\").getOrCreate()\n",
        "spark"
      ]
    },
    {
      "cell_type": "code",
      "source": [
        "!ls"
      ],
      "metadata": {
        "colab": {
          "base_uri": "https://localhost:8080/"
        },
        "id": "2XNYaLMJCr4U",
        "outputId": "4ce49611-bcfc-49da-afb8-fcdb18eee93c"
      },
      "execution_count": 9,
      "outputs": [
        {
          "output_type": "stream",
          "name": "stdout",
          "text": [
            "sample_data\n"
          ]
        }
      ]
    },
    {
      "cell_type": "markdown",
      "source": [],
      "metadata": {
        "id": "XO081lQtutJ-"
      }
    },
    {
      "cell_type": "markdown",
      "metadata": {
        "id": "8qf-TmnsBgXd"
      },
      "source": [
        "## (02-02) Download Chicago's Reported Crime Data"
      ]
    },
    {
      "cell_type": "markdown",
      "metadata": {
        "id": "0ysUlfFrN5OD"
      },
      "source": [
        "### Downloading and preprocessing Chicago's Reported Crime Data"
      ]
    },
    {
      "cell_type": "code",
      "execution_count": 10,
      "metadata": {
        "id": "FDtw5Hy3N-pV",
        "colab": {
          "base_uri": "https://localhost:8080/"
        },
        "outputId": "f41fd57f-0328-4a09-b0bf-cbabf13c2f16"
      },
      "outputs": [
        {
          "output_type": "stream",
          "name": "stdout",
          "text": [
            "--2025-04-29 10:14:28--  https://data.cityofchicago.org/api/views/ijzp-q8t2/rows.csv?accessType=DOWNLOAD\n",
            "Resolving data.cityofchicago.org (data.cityofchicago.org)... 52.206.140.205, 52.206.68.26, 52.206.140.199\n",
            "Connecting to data.cityofchicago.org (data.cityofchicago.org)|52.206.140.205|:443... connected.\n",
            "HTTP request sent, awaiting response... 200 OK\n",
            "Length: unspecified [text/csv]\n",
            "Saving to: ‘rows.csv?accessType=DOWNLOAD’\n",
            "\n",
            "rows.csv?accessType     [          <=>       ]   1.83G  2.49MB/s    in 15m 40s \n",
            "\n",
            "2025-04-29 10:30:08 (1.99 MB/s) - ‘rows.csv?accessType=DOWNLOAD’ saved [1961839834]\n",
            "\n",
            "total 1915868\n",
            "-rw-r--r-- 1 root root 1961839834 Apr 28 11:28 'rows.csv?accessType=DOWNLOAD'\n",
            "drwxr-xr-x 1 root root       4096 Apr 25 17:44  sample_data\n"
          ]
        }
      ],
      "source": [
        "!wget https://data.cityofchicago.org/api/views/ijzp-q8t2/rows.csv?accessType=DOWNLOAD\n",
        "!ls -l"
      ]
    },
    {
      "cell_type": "code",
      "execution_count": 11,
      "metadata": {
        "id": "v4P5mMONYyVd",
        "colab": {
          "base_uri": "https://localhost:8080/"
        },
        "outputId": "44dac88f-77c0-4da1-8c8a-e2b2ec91f151"
      },
      "outputs": [
        {
          "output_type": "stream",
          "name": "stdout",
          "text": [
            "total 1915868\n",
            "-rw-r--r-- 1 root root 1961839834 Apr 28 11:28 reported-crimes.csv\n",
            "drwxr-xr-x 1 root root       4096 Apr 25 17:44 sample_data\n"
          ]
        }
      ],
      "source": [
        "!mv rows.csv\\?accessType\\=DOWNLOAD reported-crimes.csv\n",
        "!ls -l"
      ]
    },
    {
      "cell_type": "code",
      "execution_count": 13,
      "metadata": {
        "id": "9-1cK0nPNS95",
        "colab": {
          "base_uri": "https://localhost:8080/"
        },
        "outputId": "962f3de8-3c1a-44a7-8e94-332e9c1a7fcc"
      },
      "outputs": [
        {
          "output_type": "stream",
          "name": "stdout",
          "text": [
            "+--------+-----------+-------------------+--------------------+----+--------------------+--------------------+--------------------+------+--------+----+--------+----+--------------+--------+------------+------------+----+--------------------+------------+-------------+--------------------+\n",
            "|      ID|Case Number|               Date|               Block|IUCR|        Primary Type|         Description|Location Description|Arrest|Domestic|Beat|District|Ward|Community Area|FBI Code|X Coordinate|Y Coordinate|Year|          Updated On|    Latitude|    Longitude|            Location|\n",
            "+--------+-----------+-------------------+--------------------+----+--------------------+--------------------+--------------------+------+--------+----+--------+----+--------------+--------+------------+------------+----+--------------------+------------+-------------+--------------------+\n",
            "|11227634|   JB147599|2017-08-26 10:00:00| 001XX W RANDOLPH ST|0281| CRIM SEXUAL ASSAULT|      NON-AGGRAVATED|         HOTEL/MOTEL| false|   false|0122|     001|  42|            32|      02|        null|        null|2017|02/11/2018 03:57:...|        null|         null|                null|\n",
            "| 6255892|   HP342049|2008-05-17 18:00:00|101XX S LAFAYETTE...|031A|             ROBBERY|     ARMED - HANDGUN|           RESIDENCE| false|   false|0511|     005|   9|            49|      03|     1177712|     1837726|2008|01/19/2024 03:40:...|41.710039855| -87.62479561|(41.710039855, -8...|\n",
            "| 6272641|   HP358387|2008-05-27 01:00:00|   105XX S PERRY AVE|0320|             ROBBERY|STRONG ARM - NO W...|              STREET| false|    true|0512|     005|   9|            49|      03|     1177463|     1835161|2008|01/19/2024 03:40:...|41.703006756|-87.625784664|(41.703006756, -8...|\n",
            "| 6438609|   HP496499|2008-08-05 22:37:00|   126XX S UNION AVE|031A|             ROBBERY|     ARMED - HANDGUN|SCHOOL - PUBLIC G...| false|   false|0523|     005|   9|            53|      03|     1173953|     1821073|2008|01/19/2024 03:40:...|41.664425476|-87.639053139|(41.664425476, -8...|\n",
            "| 6680276|   HP754070|2008-12-27 20:00:00|  058XX N MANTON AVE|0610|            BURGLARY|      FORCIBLE ENTRY|  RESIDENCE - GARAGE| false|   false|1622|     016|  39|            11|      05|     1137225|     1938474|2008|01/19/2024 03:40:...|  41.9873259|-87.770650405|(41.9873259, -87....|\n",
            "|12536164|   JE439378|2015-09-24 00:00:00|     031XX W 53RD PL|1753|OFFENSE INVOLVING...|SEXUAL ASSAULT OF...|           APARTMENT| false|    true|0923|     009|  14|            63|      02|        null|        null|2015|09/14/2023 03:41:...|        null|         null|                null|\n",
            "|12536166|   JE439332|2014-09-07 00:00:00|     031XX W 53RD PL|1753|OFFENSE INVOLVING...|SEXUAL ASSAULT OF...|           APARTMENT| false|    true|0923|     009|  14|            63|      02|        null|        null|2014|09/14/2023 03:41:...|        null|         null|                null|\n",
            "|12829020|   JF398208|2015-01-01 00:01:00|     080XX S WOOD ST|0266|CRIMINAL SEXUAL A...|           PREDATORY|           RESIDENCE| false|    true|0611|     006|  17|            71|      02|        null|        null|2015|09/14/2023 03:41:...|        null|         null|                null|\n",
            "|12914647|   JF500216|2013-07-10 00:00:00|  046XX S SAWYER AVE|1753|OFFENSE INVOLVING...|SEXUAL ASSAULT OF...|           APARTMENT| false|    true|0821|     008|  12|            58|      02|        null|        null|2013|09/14/2023 03:41:...|        null|         null|                null|\n",
            "|13125020|   JG320649|2015-05-15 00:00:00|     041XX W 24TH PL|1752|OFFENSE INVOLVING...|AGGRAVATED CRIMIN...|           APARTMENT|  true|    true|1013|     010|  22|            30|      17|        null|        null|2015|09/14/2023 03:41:...|        null|         null|                null|\n",
            "|13158716|   JG362691|2018-11-09 00:00:00|017XX N NASHVILLE...|0265|CRIMINAL SEXUAL A...|  AGGRAVATED - OTHER|           RESIDENCE| false|   false|2513|     025|  29|            25|      02|     1132147|     1910836|2018|09/14/2023 03:41:...|41.911574252|-87.789972279|(41.911574252, -8...|\n",
            "|13188119|   JG397237|2015-05-15 00:00:00|     041XX W 24TH PL|1754|OFFENSE INVOLVING...|AGGRAVATED SEXUAL...|           APARTMENT|  true|    true|1013|     010|  22|            30|      02|        null|        null|2015|09/14/2023 03:41:...|        null|         null|                null|\n",
            "| 7823660|   HS634379|2010-11-19 09:00:00| 076XX S ABERDEEN ST|0320|             ROBBERY|STRONG ARM - NO W...|           RESIDENCE|  true|   false|0612|     006|  17|            71|      03|     1170306|     1854179|2010|09/14/2023 03:41:...|41.755353249|-87.651440192|(41.755353249, -8...|\n",
            "|13193781|   JG397432|2015-06-18 00:00:00| 031XX S KOSTNER AVE|1752|OFFENSE INVOLVING...|AGGRAVATED CRIMIN...|           RESIDENCE| false|    true|1031|     010|  22|            30|      17|        null|        null|2015|09/14/2023 03:43:...|        null|         null|                null|\n",
            "|13209443|   JG422673|2004-09-17 00:00:00|     007XX W 47TH PL|1752|OFFENSE INVOLVING...|AGGRAVATED CRIMIN...|           RESIDENCE| false|    true|0935|     009|  15|            61|      17|        null|        null|2004|09/23/2023 03:41:...|        null|         null|                null|\n",
            "|13209468|   JG422994|2013-08-27 00:00:00|  087XX S BURLEY AVE|1153|  DECEPTIVE PRACTICE|FINANCIAL IDENTIT...|           APARTMENT| false|   false|0424|     004|  10|            46|      11|        null|        null|2013|09/14/2023 03:43:...|        null|         null|                null|\n",
            "|11037549|   JA371812|2017-07-30 04:00:00| 004XX N DEARBORN ST|0870|               THEFT|      POCKET-PICKING|               ALLEY| false|   false|1831|     018|  42|             8|      06|        null|        null|2017|08/06/2017 03:53:...|        null|         null|                null|\n",
            "|11228565|   JB148941|2017-12-16 14:30:00|102XX S EBERHART AVE|0610|            BURGLARY|      FORCIBLE ENTRY|     VACANT LOT/LAND| false|   false|0511|     005|   9|            49|      05|        null|        null|2017|02/12/2018 03:49:...|        null|         null|                null|\n",
            "|13342055|   JH119366|2011-01-01 00:00:00|     010XX W 37TH ST|1153|  DECEPTIVE PRACTICE|FINANCIAL IDENTIT...|           APARTMENT| false|   false|0915|     009|  11|            60|      11|        null|        null|2011|01/19/2024 03:41:...|        null|         null|                null|\n",
            "|11243119|   JB168573|2017-11-02 13:00:00|   063XX N MOZART ST|2825|       OTHER OFFENSE|HARASSMENT BY TEL...|           APARTMENT| false|   false|2413|     024|  50|             2|      26|        null|        null|2017|03/01/2018 03:54:...|        null|         null|                null|\n",
            "| 7625077|   HS429521|2010-07-25 21:13:00| 127XX S EMERALD AVE|0610|            BURGLARY|      FORCIBLE ENTRY|           RESIDENCE| false|   false|0523|     005|   9|            53|      05|     1173646|     1820410|2010|04/18/2024 03:40:...|41.662612873| -87.64019614|(41.662612873, -8...|\n",
            "| 2370646|   HH676216|2002-09-26 13:30:00|     034XX W 79TH ST|0460|             BATTERY|              SIMPLE|              STREET| false|   false|0835|     008|  18|            70|     08B|        null|        null|2002|08/17/2015 03:03:...|        null|         null|                null|\n",
            "|12491515|   JE384510|2018-09-15 08:00:00| 002XX W RANDOLPH ST|1140|  DECEPTIVE PRACTICE|        EMBEZZLEMENT|COMMERCIAL / BUSI...|  true|   false|0122|     001|  42|            32|      12|        null|        null|2018|09/15/2023 03:41:...|        null|         null|                null|\n",
            "|10001298|   HY190857|2015-03-19 16:47:00|   036XX W HIRSCH ST|0460|             BATTERY|              SIMPLE|              STREET|  true|    true|2535|     025|  26|            23|     08B|     1151600|     1909065|2015|02/10/2018 03:50:...|41.906354055|-87.718553977|(41.906354055, -8...|\n",
            "|11229320|   JB150109|2017-09-29 18:30:00|058XX N CUMBERLAN...|0820|               THEFT|      $500 AND UNDER|         CTA STATION| false|   false|1614|     016|  41|            76|      06|        null|        null|2017|02/13/2018 03:58:...|        null|         null|                null|\n",
            "|13699029|   JH551013|2012-12-01 00:00:00|    005XX W 125TH ST|0560|             ASSAULT|              SIMPLE|           RESIDENCE| false|    true|0523|     005|   9|            53|     08A|        null|        null|2012|12/22/2024 03:41:...|        null|         null|                null|\n",
            "|11228604|   JB149032|2017-12-14 18:30:00|063XX S STONY ISL...|0810|               THEFT|           OVER $500|       ATHLETIC CLUB| false|   false|0314|     003|  20|            42|      06|        null|        null|2017|02/13/2018 03:58:...|        null|         null|                null|\n",
            "|11031460|   JA363955|2014-07-20 23:00:00| 014XX W FILLMORE ST|0810|               THEFT|           OVER $500|    RESIDENCE-GARAGE| false|   false|1231|     012|   2|            28|      06|        null|        null|2014|07/27/2017 03:50:...|        null|         null|                null|\n",
            "|13210140|   JG423674|2017-07-17 07:00:00|078XX S KINGSTON AVE|1153|  DECEPTIVE PRACTICE|FINANCIAL IDENTIT...|           RESIDENCE| false|   false|0421|     004|   7|            43|      11|        null|        null|2017|09/15/2023 03:42:...|        null|         null|                null|\n",
            "|13432854|   JH229625|2017-03-01 00:00:00|  006XX N CICERO AVE|1753|OFFENSE INVOLVING...|SEXUAL ASSAULT OF...|           APARTMENT| false|    true|1532|     015|  37|            25|      02|        null|        null|2017|04/18/2024 03:40:...|        null|         null|                null|\n",
            "|13432973|   JH229830|2018-08-22 00:00:00|  076XX S LUELLA AVE|1120|  DECEPTIVE PRACTICE|             FORGERY|           RESIDENCE| false|    true|0414|     004|   7|            43|      10|        null|        null|2018|04/28/2024 03:40:...|        null|         null|                null|\n",
            "|11040127|   JA374003|2017-08-01 09:00:00|    003XX W ADAMS ST|0810|               THEFT|           OVER $500|COMMERCIAL / BUSI...| false|   false|0122|     001|   2|            32|      06|        null|        null|2017|08/08/2017 03:53:...|        null|         null|                null|\n",
            "| 4585015|   HM173325|2006-02-10 03:00:00|074XX N CLAREMONT...|0810|               THEFT|           OVER $500|           APARTMENT| false|   false|2411|     024|  50|             2|      06|     1159382|     1949207|2006|01/20/2024 03:41:...|42.016349235|-87.688858562|(42.016349235, -8...|\n",
            "| 5675764|   HN485421|2007-07-24 03:00:00|     020XX E 75TH ST|0610|            BURGLARY|      FORCIBLE ENTRY|          RESTAURANT| false|   false|0414|     004|   8|            43|      05|     1191068|     1855640|2007|01/20/2024 03:41:...| 41.75888559|-87.575306614|(41.75888559, -87...|\n",
            "| 9745335|   HX369977|2014-08-01 19:42:00|     001XX E 60TH ST|1821|           NARCOTICS|MANU/DEL:CANNABIS...|            SIDEWALK|  true|   false|0311|     003|  20|            40|      18|        null|        null|2014|08/08/2017 03:52:...|        null|         null|                null|\n",
            "|10899182|   HW182708|2013-03-06 14:15:00|  002XX N PULASKI RD|1200|  DECEPTIVE PRACTICE|STOLEN PROP: BUY/...|  SMALL RETAIL STORE| false|   false|1122|     011|  28|            26|      13|        null|        null|2013|08/09/2017 03:51:...|        null|         null|                null|\n",
            "|13206379|   JG418537|2007-01-01 16:40:00|    053XX S SHORE DR|1153|  DECEPTIVE PRACTICE|FINANCIAL IDENTIT...|                null| false|   false|0234|     002|   5|            41|      11|        null|        null|2007|09/16/2023 03:42:...|        null|         null|                null|\n",
            "|11648406|   JC215434|2017-01-01 00:01:00|     031XX W 25TH ST|1752|OFFENSE INVOLVING...|AGG CRIM SEX ABUS...|           RESIDENCE| false|    true|1033|     010|  12|            30|      17|        null|        null|2017|08/01/2019 03:45:...|        null|         null|                null|\n",
            "|11229724|   JB150683|2017-09-30 18:00:00|  012XX W ALBION AVE|0890|               THEFT|       FROM BUILDING|           APARTMENT| false|   false|2432|     024|  49|             1|      06|        null|        null|2017|02/14/2018 03:52:...|        null|         null|                null|\n",
            "|11465250|   JB456922|2018-09-30 13:05:00|109XX S VINCENNES...|051A|             ASSAULT|AGGRAVATED - HANDGUN|PARKING LOT / GAR...| false|   false|2212|     022|  19|            75|     04A|     1167716|     1832035|2018|09/16/2023 03:41:...| 41.69464271|-87.661565167|(41.69464271, -87...|\n",
            "|13698837|   JH549745|2014-05-16 00:01:00|     014XX W 17TH ST|1752|OFFENSE INVOLVING...|AGGRAVATED CRIMIN...|           APARTMENT| false|    true|1233|     012|  25|            31|      17|        null|        null|2014|03/15/2025 03:40:...|        null|         null|                null|\n",
            "|12755252|   JF308430|2015-08-30 00:00:00|   049XX N DRAKE AVE|1752|OFFENSE INVOLVING...|AGGRAVATED CRIMIN...|           APARTMENT| false|    true|1712|     017|  33|            14|      17|        null|        null|2015|09/16/2023 03:41:...|        null|         null|                null|\n",
            "|13113476|   JG308610|2018-09-01 00:00:00| 067XX S ROCKWELL ST|1753|OFFENSE INVOLVING...|SEXUAL ASSAULT OF...|           RESIDENCE| false|    true|0832|     008|  16|            66|      02|        null|        null|2018|09/16/2023 03:41:...|        null|         null|                null|\n",
            "|13159459|   JG363465|2017-05-31 00:00:00|    017XX N LUNA AVE|1754|OFFENSE INVOLVING...|AGGRAVATED SEXUAL...|           RESIDENCE| false|    true|2532|     025|  37|            25|      02|        null|        null|2017|09/16/2023 03:41:...|        null|         null|                null|\n",
            "|10004056|   HY193846|2015-03-22 02:34:00|  073XX S CICERO AVE|0486|             BATTERY|DOMESTIC BATTERY ...|         HOTEL/MOTEL|  true|    true|0833|     008|  13|            65|     08B|     1145666|     1855429|2015|02/10/2018 03:50:...|41.759283913|-87.741709017|(41.759283913, -8...|\n",
            "| 3848525|   HL223100|2005-03-08 18:21:00|082XX S EXCHANGE AVE|0312|             ROBBERY|ARMED - KNIFE / C...|            SIDEWALK| false|   false|0424|     004|   7|            46|      03|     1197257|     1850928|2005|09/16/2023 03:41:...|41.745803634|-87.552781439|(41.745803634, -8...|\n",
            "| 3853132|   HL225517|2005-03-10 01:45:00|  080XX S DREXEL AVE|0320|             ROBBERY|STRONG ARM - NO W...|           APARTMENT| false|    true|0631|     006|   8|            44|      03|     1183627|     1851969|2005|09/16/2023 03:41:...|41.748988677|-87.602691353|(41.748988677, -8...|\n",
            "| 3855343|   HL231135|2005-03-12 21:17:43|   084XX S HONORE ST|033A|             ROBBERY|ATTEMPT ARMED - H...|            SIDEWALK| false|   false|0614|     006|  18|            71|      03|     1165489|     1848611|2005|09/16/2023 03:41:...|41.740177267| -87.66925077|(41.740177267, -8...|\n",
            "| 3909883|   HL284160|2005-04-09 11:00:00|    0000X W 123RD ST|0340|             ROBBERY|ATTEMPT STRONG AR...|              STREET| false|   false|0523|     005|   9|            53|      03|     1178014|     1823398|2005|09/16/2023 03:41:...|41.670714907|-87.624121645|(41.670714907, -8...|\n",
            "| 3917629|   HL289813|2005-04-12 07:45:00|     012XX W 83RD ST|0320|             ROBBERY|STRONG ARM - NO W...|           RESIDENCE| false|    true|0613|     006|  17|            71|      03|     1169579|     1849746|2005|09/16/2023 03:41:...|41.743204278| -87.65423268|(41.743204278, -8...|\n",
            "| 4381966|   HL675021|2005-10-15 14:58:00|079XX S GREENWOOD...|0320|             ROBBERY|STRONG ARM - NO W...|           APARTMENT| false|    true|0624|     006|   8|            44|      03|     1184931|     1852548|2005|09/16/2023 03:41:...|41.750547026|-87.597894925|(41.750547026, -8...|\n",
            "| 4475557|   HL775890|2005-12-07 03:08:00|     033XX E 91ST ST|031A|             ROBBERY|     ARMED - HANDGUN|              STREET| false|   false|0424|     004|  10|            46|      03|     1199721|     1845251|2005|09/16/2023 03:41:...|41.730163843|-87.543943874|(41.730163843, -8...|\n",
            "| 8029377|   HT260540|2011-04-22 02:40:00|063XX S DR MARTIN...|0420|             BATTERY|AGGRAVATED - KNIF...|          RESTAURANT| false|   false|0312|     003|  20|            42|     04B|     1180014|     1862897|2011|09/16/2023 03:41:...|41.779059693|-87.615596501|(41.779059693, -8...|\n",
            "| 8427725|   HV106221|2001-05-01 00:00:00|064XX S MAPLEWOOD...|1754|OFFENSE INVOLVING...|AGGRAVATED SEXUAL...|           RESIDENCE|  true|    true|0825|     008|  16|            66|      02|        null|        null|2001|09/16/2023 03:41:...|        null|         null|                null|\n",
            "|12428917|   JE308086|2016-10-06 00:01:00|   070XX S PERRY AVE|1562|         SEX OFFENSE|AGGRAVATED CRIMIN...|           RESIDENCE| false|   false|0731|     007|   6|            69|      17|        null|        null|2016|09/16/2023 03:42:...|        null|         null|                null|\n",
            "|11229685|   JB150530|2014-01-01 12:00:00|     026XX W 15TH ST|1153|  DECEPTIVE PRACTICE|FINANCIAL IDENTIT...|           RESIDENCE| false|   false|1023|     010|  28|            29|      11|        null|        null|2014|02/16/2018 03:51:...|        null|         null|                null|\n",
            "|11648818|   JC216121|2016-05-08 09:45:00|     0000X W 73RD ST|1153|  DECEPTIVE PRACTICE|FINANCIAL IDENTIT...|                null| false|   false|0731|     007|   6|            69|      11|        null|        null|2016|04/09/2019 04:24:...|        null|         null|                null|\n",
            "|11033011|   JA365922|2010-01-01 12:00:00|  053XX S HARPER AVE|1154|  DECEPTIVE PRACTICE|FINANCIAL IDENTIT...|           APARTMENT| false|   false|0234|     002|   4|            41|      11|        null|        null|2010|07/28/2017 03:47:...|        null|         null|                null|\n",
            "|13211439|   JG424021|2016-01-01 00:00:00|     030XX W 55TH ST|1754|OFFENSE INVOLVING...|AGGRAVATED SEXUAL...|           RESIDENCE| false|    true|0824|     008|  14|            63|      02|        null|        null|2016|09/16/2023 03:42:...|        null|         null|                null|\n",
            "|11196021|   JA549980|2017-12-15 06:15:00|   037XX W CERMAK RD|2022|           NARCOTICS|       POSS: COCAINE|VEHICLE NON-COMME...|  true|   false|1014|     010|  24|            29|      18|        null|        null|2017|03/03/2018 03:51:...|        null|         null|                null|\n",
            "|13207522|   JG419813|2005-01-11 09:30:00|   039XX W MONROE ST|1153|  DECEPTIVE PRACTICE|FINANCIAL IDENTIT...|                null| false|   false|1122|     011|  28|            26|      11|        null|        null|2005|09/16/2023 03:42:...|        null|         null|                null|\n",
            "| 5145265|   HM742840|2005-10-01 09:00:00|   035XX W CERMAK RD|0810|               THEFT|           OVER $500|               OTHER|  true|   false|1024|     010|  22|            30|      06|        null|        null|2005|08/17/2015 03:03:...|        null|         null|                null|\n",
            "|11230526|   JB151836|2016-04-11 12:00:00|  048XX N KEDZIE AVE|1152|  DECEPTIVE PRACTICE|ILLEGAL USE CASH ...|                BANK| false|   false|1713|     017|  33|            14|      11|        null|        null|2016|02/15/2018 03:50:...|        null|         null|                null|\n",
            "|13337222|   JH114405|2005-09-04 00:01:00|   040XX W NELSON ST|1753|OFFENSE INVOLVING...|SEXUAL ASSAULT OF...|           APARTMENT| false|    true|2523|     025|  31|            21|      02|        null|        null|2005|01/20/2024 03:41:...|        null|         null|                null|\n",
            "|10892948|   HX543469|2014-12-15 16:58:00|   038XX W MONROE ST|2017|           NARCOTICS|  MANU/DELIVER:CRACK|VEHICLE NON-COMME...|  true|   false|1122|     011|  28|            26|      18|        null|        null|2014|07/29/2017 03:52:...|        null|         null|                null|\n",
            "|11033040|   JA365661|2012-03-22 00:01:00|     005XX W 14TH PL|1120|  DECEPTIVE PRACTICE|             FORGERY|                BANK| false|   false|0124|     001|   2|            28|      10|        null|        null|2012|07/29/2017 03:52:...|        null|         null|                null|\n",
            "|11231208|   JB151691|2017-12-30 13:11:00|  008XX N CICERO AVE|1150|  DECEPTIVE PRACTICE|   CREDIT CARD FRAUD|               OTHER| false|   false|1111|     011|  37|            25|      11|        null|        null|2017|02/15/2018 03:50:...|        null|         null|                null|\n",
            "|11156506|   JA487872|2017-10-20 15:00:00|    100XX W OHARE ST|2091|           NARCOTICS|    FORFEIT PROPERTY|    AIRPORT/AIRCRAFT|  true|   false|1651|     016|  41|            76|      18|        null|        null|2017|02/17/2018 03:52:...|        null|         null|                null|\n",
            "|13342194|   JH120596|2017-09-12 00:01:00|  004XX E ONTARIO ST|1153|  DECEPTIVE PRACTICE|FINANCIAL IDENTIT...|           APARTMENT| false|   false|1834|     018|   2|             8|      11|        null|        null|2017|01/22/2024 03:40:...|        null|         null|                null|\n",
            "| 6329138|   HP422605|2008-06-28 23:00:00|    048XX N BROADWAY|0810|               THEFT|           OVER $500|              STREET| false|   false|2033|     020|  48|             3|      06|        null|        null|2008|08/17/2015 03:03:...|        null|         null|                null|\n",
            "|10523364|   HZ266182|2016-05-16 01:30:00|   115XX S PEORIA ST|0281|CRIMINAL SEXUAL A...|      NON-AGGRAVATED|           RESIDENCE| false|   false|0524|     005|  21|            53|      02|     1172168|     1828110|2016|12/23/2024 03:41:...|41.683775448|-87.645379873|(41.683775448, -8...|\n",
            "|12998264|   JG171087|2015-01-12 12:00:00|    0000X E 122ND ST|1752|OFFENSE INVOLVING...|AGGRAVATED CRIMIN...|           RESIDENCE| false|    true|0532|     005|   9|            53|      17|        null|        null|2015|09/18/2023 03:41:...|        null|         null|                null|\n",
            "|11226948|   JB146664|2018-02-09 12:00:00|005XX N LAKE SHOR...|1153|  DECEPTIVE PRACTICE|FINANCIAL IDENTIT...|                null| false|   false|1834|     018|  42|             8|      11|        null|        null|2018|02/16/2018 03:53:...|        null|         null|                null|\n",
            "|11189512|   JA565504|2016-12-15 08:00:00|035XX S MICHIGAN AVE|4650|       OTHER OFFENSE|SEX OFFENDER: FAI...|POLICE FACILITY/V...| false|   false|0213|     002|   3|            35|      26|        null|        null|2016|02/16/2018 03:53:...|        null|         null|                null|\n",
            "|11231792|   JB152997|2017-11-13 17:33:00|    043XX N BROADWAY|0890|               THEFT|       FROM BUILDING|               OTHER| false|   false|1915|     019|  46|             3|      06|        null|        null|2017|02/16/2018 03:53:...|        null|         null|                null|\n",
            "|11231897|   JB153081|2017-11-02 18:00:00|078XX S COTTAGE G...|0820|               THEFT|      $500 AND UNDER|VEHICLE NON-COMME...| false|   false|0624|     006|   6|            69|      06|        null|        null|2017|02/16/2018 03:53:...|        null|         null|                null|\n",
            "| 7153921|   HR562323|2009-09-29 12:00:00|    013XX N CLARK ST|0810|               THEFT|           OVER $500|              STREET| false|   false|1824|     018|  42|             8|      06|        null|        null|2009|08/17/2015 03:03:...|        null|         null|                null|\n",
            "|11043847|   JA378262|2017-08-04 21:30:00| 003XX W RANDOLPH ST|0870|               THEFT|      POCKET-PICKING|       PARK PROPERTY| false|   false|0122|     001|  42|            32|      06|        null|        null|2017|08/11/2017 03:53:...|        null|         null|                null|\n",
            "|11036042|   JA368231|2015-10-19 00:01:00|013XX W WASHBURNE...|0281| CRIM SEXUAL ASSAULT|      NON-AGGRAVATED|           RESIDENCE| false|   false|1233|     012|   2|            28|      02|        null|        null|2015|01/16/2018 04:00:...|        null|         null|                null|\n",
            "|13342990|   JH121616|2017-05-01 12:00:00|     017XX W 79TH ST|1130|  DECEPTIVE PRACTICE|FRAUD OR CONFIDEN...|CHURCH / SYNAGOGU...| false|   false|0611|     006|  17|            71|      11|        null|        null|2017|02/05/2024 03:40:...|        null|         null|                null|\n",
            "|10010019|   HY199355|2015-03-26 15:45:00|   017XX W HOWARD ST|0860|               THEFT|        RETAIL THEFT|  SMALL RETAIL STORE|  true|   false|2422|     024|  49|             1|      06|     1163126|     1950347|2015|02/10/2018 03:50:...|42.019399237|-87.675049485|(42.019399237, -8...|\n",
            "|13343048|   JH121744|2013-01-01 00:00:00|033XX W JACKSON BLVD|1153|  DECEPTIVE PRACTICE|FINANCIAL IDENTIT...|           APARTMENT| false|   false|1134|     011|  28|            27|      11|        null|        null|2013|01/21/2024 03:41:...|        null|         null|                null|\n",
            "|11231455|   JB153113|2015-10-29 06:49:00|  115XX S HALSTED ST|1130|  DECEPTIVE PRACTICE|FRAUD OR CONFIDEN...|         GAS STATION| false|   false|0524|     005|  34|            53|      11|        null|        null|2015|02/17/2018 03:52:...|        null|         null|                null|\n",
            "|10554430|   HZ300673|2016-06-09 20:28:00|     007XX E 43RD ST|041A|             BATTERY|AGGRAVATED - HANDGUN|            SIDEWALK| false|   false|0214|     002|   4|            38|     04B|     1181974|     1876664|2016|09/18/2023 03:41:...|41.816792395|-87.607985151|(41.816792395, -8...|\n",
            "|12620895|   JF147820|2017-09-15 00:00:00|    102XX S AVENUE N|1754|OFFENSE INVOLVING...|AGGRAVATED SEXUAL...|           RESIDENCE| false|    true|0432|     004|  10|            52|      02|        null|        null|2017|09/18/2023 03:41:...|        null|         null|                null|\n",
            "|12755153|   JF310454|2012-08-14 07:00:00|098XX S MARQUETTE...|1752|OFFENSE INVOLVING...|AGGRAVATED CRIMIN...|           RESIDENCE| false|    true|0431|     004|  10|            51|      17|        null|        null|2012|09/18/2023 03:41:...|        null|         null|                null|\n",
            "|10801024|   HZ571557|2016-12-31 02:00:00|020XX N MILWAUKEE...|0281| CRIM SEXUAL ASSAULT|      NON-AGGRAVATED|       BAR OR TAVERN| false|   false|1431|     014|   1|            22|      02|        null|        null|2016|04/11/2019 04:07:...|        null|         null|                null|\n",
            "|11232500|   JB154487|2017-07-12 15:00:00|   114XX S MORGAN ST|0610|            BURGLARY|      FORCIBLE ENTRY|     VACANT LOT/LAND| false|   false|2234|     022|  34|            75|      05|        null|        null|2017|02/17/2018 03:55:...|        null|         null|                null|\n",
            "|13214023|   JG428040|2016-08-15 09:35:00|   100XX S UNION AVE|1153|  DECEPTIVE PRACTICE|FINANCIAL IDENTIT...|                null| false|   false|2232|     022|  21|            73|      11|        null|        null|2016|09/18/2023 03:42:...|        null|         null|                null|\n",
            "|11650853|   JC219195|2018-08-24 17:11:00|027XX N RUTHERFOR...|1153|  DECEPTIVE PRACTICE|FINANCIAL IDENTIT...|               OTHER| false|   false|2512|     025|  36|            18|      11|        null|        null|2018|04/11/2019 04:07:...|        null|         null|                null|\n",
            "|11651116|   JC219224|2017-09-01 08:30:00|064XX S DORCHESTE...|1153|  DECEPTIVE PRACTICE|FINANCIAL IDENTIT...|                null| false|   false|0314|     003|  20|            42|      11|        null|        null|2017|04/11/2019 04:07:...|        null|         null|                null|\n",
            "|11035301|   JA368739|2017-07-25 20:00:00| 002XX E Randolph St|0820|               THEFT|      $500 AND UNDER|       PARK PROPERTY| false|   false|0114|     001|  42|            32|      06|        null|        null|2017|08/01/2017 03:52:...|        null|         null|                null|\n",
            "|13213472|   JG426663|2008-01-01 00:00:00|     043XX W 26TH ST|1752|OFFENSE INVOLVING...|AGGRAVATED CRIMIN...|           APARTMENT| false|    true|1013|     010|  22|            30|      17|        null|        null|2008|09/18/2023 03:42:...|        null|         null|                null|\n",
            "|11650748|   JC218863|2015-04-01 09:00:00|     011XX W 15TH ST|5000|       OTHER OFFENSE|OTHER CRIME AGAIN...|           RESIDENCE| false|   false|1232|     012|  11|            28|      26|        null|        null|2015|04/11/2019 04:07:...|        null|         null|                null|\n",
            "|13213784|   JG427978|2016-10-01 08:00:00| 006XX W BELMONT AVE|1130|  DECEPTIVE PRACTICE|FRAUD OR CONFIDEN...|COMMERCIAL / BUSI...| false|   false|1934|     019|  44|             6|      11|        null|        null|2016|09/18/2023 03:42:...|        null|         null|                null|\n",
            "|11651475|   JC219287|2018-10-05 16:15:00|    102XX W ZEMKE RD|1206|  DECEPTIVE PRACTICE|THEFT BY LESSEE,M...|               OTHER| false|   false|1654|     016|  41|            76|      11|        null|        null|2018|04/11/2019 04:07:...|        null|         null|                null|\n",
            "|11233092|   JB155323|2017-12-16 21:30:00|005XX N MONTICELL...|1330|   CRIMINAL TRESPASS|             TO LAND|           RESIDENCE| false|   false|1122|     011|  27|            23|      26|        null|        null|2017|02/18/2018 03:47:...|        null|         null|                null|\n",
            "|11233312|   JB155575|2017-12-24 15:00:00|     059XX W 64TH PL|0820|               THEFT|      $500 AND UNDER|           RESIDENCE| false|   false|0812|     008|  13|            64|      06|        null|        null|2017|02/18/2018 03:47:...|        null|         null|                null|\n",
            "|11233183|   JB155455|2016-02-16 09:00:00|029XX W AUGUSTA BLVD|0910| MOTOR VEHICLE THEFT|          AUTOMOBILE|              STREET| false|   false|1211|     012|  26|            24|      07|        null|        null|2016|02/18/2018 03:47:...|        null|         null|                null|\n",
            "| 6562327|   HP635108|2008-10-18 17:26:49|    055XX S WELLS ST|0326|             ROBBERY|AGGRAVATED VEHICU...|         GAS STATION| false|   false|0711|     009|  20|            68|      03|     1175550|     1868337|2008|04/19/2024 03:40:...|41.794088699|-87.631799109|(41.794088699, -8...|\n",
            "+--------+-----------+-------------------+--------------------+----+--------------------+--------------------+--------------------+------+--------+----+--------+----+--------------+--------+------------+------------+----+--------------------+------------+-------------+--------------------+\n",
            "only showing top 100 rows\n",
            "\n"
          ]
        }
      ],
      "source": [
        "from pyspark.sql.functions import to_timestamp,col,lit\n",
        "rc = spark.read.csv('reported-crimes.csv',header=True).withColumn('Date',to_timestamp(col('Date'),'MM/dd/yyyy hh:mm:ss a')).filter(col('Date') <= lit('2018-11-11'))\n",
        "rc.show(100)"
      ]
    },
    {
      "cell_type": "code",
      "source": [
        "import pyspark\n",
        "from pyspark.sql import SparkSession\n",
        "spark = SparkSession.builder.getOrCreate()"
      ],
      "metadata": {
        "id": "YDoMDzk0kWLF"
      },
      "execution_count": 15,
      "outputs": []
    },
    {
      "cell_type": "code",
      "source": [
        "df = spark.read.csv(filepath, header= )"
      ],
      "metadata": {
        "id": "6jBgmCFKkWCw",
        "colab": {
          "base_uri": "https://localhost:8080/",
          "height": 106
        },
        "outputId": "0a1d120a-d635-46e3-810c-86f173453c16"
      },
      "execution_count": 17,
      "outputs": [
        {
          "output_type": "error",
          "ename": "SyntaxError",
          "evalue": "invalid syntax (<ipython-input-17-024a33d53d5e>, line 1)",
          "traceback": [
            "\u001b[0;36m  File \u001b[0;32m\"<ipython-input-17-024a33d53d5e>\"\u001b[0;36m, line \u001b[0;32m1\u001b[0m\n\u001b[0;31m    df = spark.read.csv(filepath,header= )\u001b[0m\n\u001b[0m                                         ^\u001b[0m\n\u001b[0;31mSyntaxError\u001b[0m\u001b[0;31m:\u001b[0m invalid syntax\n"
          ]
        }
      ]
    },
    {
      "cell_type": "code",
      "source": [
        "df.take()\n",
        "\n",
        "df.collect()\n",
        "\n",
        "df.show()\n",
        "\n",
        "df.limit()\n",
        "\n",
        "df.headd()"
      ],
      "metadata": {
        "id": "0SCeVZcmUn3J"
      },
      "execution_count": null,
      "outputs": []
    },
    {
      "cell_type": "markdown",
      "metadata": {
        "id": "3UJoYm5zwOWp"
      },
      "source": [
        "## (03-03) Schemas"
      ]
    },
    {
      "cell_type": "code",
      "execution_count": null,
      "metadata": {
        "id": "PeeOFy5cgDRq"
      },
      "outputs": [],
      "source": [
        "df.dtypes()\n",
        "\n",
        "df.printSchema()"
      ]
    },
    {
      "cell_type": "code",
      "execution_count": 18,
      "metadata": {
        "id": "qLS_NEpEgDBJ",
        "colab": {
          "base_uri": "https://localhost:8080/"
        },
        "outputId": "4a0b6d29-d1ad-494f-dd00-04c048dcb6db"
      },
      "outputs": [
        {
          "output_type": "stream",
          "name": "stdout",
          "text": [
            "root\n",
            " |-- ID: string (nullable = true)\n",
            " |-- Case Number: string (nullable = true)\n",
            " |-- Date: timestamp (nullable = true)\n",
            " |-- Block: string (nullable = true)\n",
            " |-- IUCR: string (nullable = true)\n",
            " |-- Primary Type: string (nullable = true)\n",
            " |-- Description: string (nullable = true)\n",
            " |-- Location Description: string (nullable = true)\n",
            " |-- Arrest: string (nullable = true)\n",
            " |-- Domestic: string (nullable = true)\n",
            " |-- Beat: string (nullable = true)\n",
            " |-- District: string (nullable = true)\n",
            " |-- Ward: string (nullable = true)\n",
            " |-- Community Area: string (nullable = true)\n",
            " |-- FBI Code: string (nullable = true)\n",
            " |-- X Coordinate: string (nullable = true)\n",
            " |-- Y Coordinate: string (nullable = true)\n",
            " |-- Year: string (nullable = true)\n",
            " |-- Updated On: string (nullable = true)\n",
            " |-- Latitude: string (nullable = true)\n",
            " |-- Longitude: string (nullable = true)\n",
            " |-- Location: string (nullable = true)\n",
            "\n"
          ]
        }
      ],
      "source": [
        "rc.printSchema()"
      ]
    },
    {
      "cell_type": "code",
      "execution_count": 20,
      "metadata": {
        "id": "E7NuMVpygC2h"
      },
      "outputs": [],
      "source": [
        "from pyspark.sql.types import StructType, StructField , StringType , TimestampType, BooleanType , DoubleType , IntegerType"
      ]
    },
    {
      "cell_type": "code",
      "execution_count": 21,
      "metadata": {
        "id": "ugRDxNwNgHNa",
        "colab": {
          "base_uri": "https://localhost:8080/"
        },
        "outputId": "95d58290-a07c-422f-f37a-cf3bf2e15075"
      },
      "outputs": [
        {
          "output_type": "execute_result",
          "data": {
            "text/plain": [
              "['ID',\n",
              " 'Case Number',\n",
              " 'Date',\n",
              " 'Block',\n",
              " 'IUCR',\n",
              " 'Primary Type',\n",
              " 'Description',\n",
              " 'Location Description',\n",
              " 'Arrest',\n",
              " 'Domestic',\n",
              " 'Beat',\n",
              " 'District',\n",
              " 'Ward',\n",
              " 'Community Area',\n",
              " 'FBI Code',\n",
              " 'X Coordinate',\n",
              " 'Y Coordinate',\n",
              " 'Year',\n",
              " 'Updated On',\n",
              " 'Latitude',\n",
              " 'Longitude',\n",
              " 'Location']"
            ]
          },
          "metadata": {},
          "execution_count": 21
        }
      ],
      "source": [
        "rc.columns"
      ]
    },
    {
      "cell_type": "code",
      "execution_count": null,
      "metadata": {
        "id": "T6w6-fN9gG_7"
      },
      "outputs": [],
      "source": [
        "schema = StructType([\n",
        " StructField('ID',StringType ,True),\n",
        " StructField('Case Number',StringType ,True),\n",
        " StructField('Date', TimestampType , True),\n",
        " 'Block',\n",
        " 'IUCR',\n",
        " 'Primary Type',\n",
        " 'Description',\n",
        " 'Location Description',\n",
        " 'Arrest',\n",
        " 'Domestic',\n",
        " 'Beat',\n",
        " 'District',\n",
        " 'Ward',\n",
        " 'Community Area',\n",
        " 'FBI Code',\n",
        " 'X Coordinate',\n",
        " 'Y Coordinate',\n",
        " 'Year',\n",
        " 'Updated On',\n",
        " 'Latitude',\n",
        " 'Longitude',\n",
        " 'Location')\n",
        "])"
      ]
    },
    {
      "cell_type": "code",
      "execution_count": 26,
      "metadata": {
        "id": "JkUF4yJFgG25"
      },
      "outputs": [],
      "source": [
        "labels = [\n",
        "      ('ID',StringType()),\n",
        "      ('Case Number',StringType()),\n",
        "      ('Date', TimestampType()),\n",
        "      ('Block',StringType()),\n",
        "      ('IUCR',StringType()),\n",
        "      ('Primary Type',StringType()),\n",
        "      ('Description',StringType()),\n",
        "      ('Location Description',StringType()),\n",
        "      ('Arrest',StringType()),\n",
        "      ('Domestic',BooleanType()),\n",
        "      ('Beat',StringType()),\n",
        "      ('District',StringType()),\n",
        "      ('Ward',StringType()),\n",
        "      ('Community Area',StringType()),\n",
        "      ('FBI Code',StringType()),\n",
        "      ('X Coordinate',StringType()),\n",
        "      ('Y Coordinate',StringType()),\n",
        "      ('Year',IntegerType()),\n",
        "      ('Updated On',StringType()),\n",
        "      ('Latitude',DoubleType()),\n",
        "      ('Longitude',DoubleType()),\n",
        "      ('Location',StringType())\n",
        "     ]"
      ]
    },
    {
      "cell_type": "code",
      "execution_count": 27,
      "metadata": {
        "id": "o3IB6VxLgGYi",
        "colab": {
          "base_uri": "https://localhost:8080/"
        },
        "outputId": "b4aee4db-8d61-4ee7-b881-7b8be8381e1e"
      },
      "outputs": [
        {
          "output_type": "execute_result",
          "data": {
            "text/plain": [
              "StructType([StructField('ID', StringType(), True), StructField('Case Number', StringType(), True), StructField('Date', TimestampType(), True), StructField('Block', StringType(), True), StructField('IUCR', StringType(), True), StructField('Primary Type', StringType(), True), StructField('Description', StringType(), True), StructField('Location Description', StringType(), True), StructField('Arrest', StringType(), True), StructField('Domestic', BooleanType(), True), StructField('Beat', StringType(), True), StructField('District', StringType(), True), StructField('Ward', StringType(), True), StructField('Community Area', StringType(), True), StructField('FBI Code', StringType(), True), StructField('X Coordinate', StringType(), True), StructField('Y Coordinate', StringType(), True), StructField('Year', IntegerType(), True), StructField('Updated On', StringType(), True), StructField('Latitude', DoubleType(), True), StructField('Longitude', DoubleType(), True), StructField('Location', StringType(), True)])"
            ]
          },
          "metadata": {},
          "execution_count": 27
        }
      ],
      "source": [
        "schema =StructType([StructField(x[0],x[1],True) for x in labels])\n",
        "schema"
      ]
    },
    {
      "cell_type": "code",
      "source": [
        "rc = spark.read.csv('reported-crimes.csv', schema=schema)\n",
        "rc.printSchema()"
      ],
      "metadata": {
        "colab": {
          "base_uri": "https://localhost:8080/"
        },
        "id": "CcpNhCQtjRVk",
        "outputId": "eef12fd8-236e-492b-978b-66d59aac2a83"
      },
      "execution_count": 30,
      "outputs": [
        {
          "output_type": "stream",
          "name": "stdout",
          "text": [
            "root\n",
            " |-- ID: string (nullable = true)\n",
            " |-- Case Number: string (nullable = true)\n",
            " |-- Date: timestamp (nullable = true)\n",
            " |-- Block: string (nullable = true)\n",
            " |-- IUCR: string (nullable = true)\n",
            " |-- Primary Type: string (nullable = true)\n",
            " |-- Description: string (nullable = true)\n",
            " |-- Location Description: string (nullable = true)\n",
            " |-- Arrest: string (nullable = true)\n",
            " |-- Domestic: boolean (nullable = true)\n",
            " |-- Beat: string (nullable = true)\n",
            " |-- District: string (nullable = true)\n",
            " |-- Ward: string (nullable = true)\n",
            " |-- Community Area: string (nullable = true)\n",
            " |-- FBI Code: string (nullable = true)\n",
            " |-- X Coordinate: string (nullable = true)\n",
            " |-- Y Coordinate: string (nullable = true)\n",
            " |-- Year: integer (nullable = true)\n",
            " |-- Updated On: string (nullable = true)\n",
            " |-- Latitude: double (nullable = true)\n",
            " |-- Longitude: double (nullable = true)\n",
            " |-- Location: string (nullable = true)\n",
            "\n"
          ]
        }
      ]
    },
    {
      "cell_type": "code",
      "source": [
        "rc.show(5)"
      ],
      "metadata": {
        "colab": {
          "base_uri": "https://localhost:8080/"
        },
        "id": "-N_62ej-j9lp",
        "outputId": "3e3d32ca-2aa4-4065-8adb-dc8fb0780279"
      },
      "execution_count": 31,
      "outputs": [
        {
          "output_type": "stream",
          "name": "stdout",
          "text": [
            "+--------+-----------+----+--------------------+----+--------------------+--------------------+--------------------+------+--------+----+--------+----+--------------+--------+------------+------------+----+--------------------+------------+-------------+--------------------+\n",
            "|      ID|Case Number|Date|               Block|IUCR|        Primary Type|         Description|Location Description|Arrest|Domestic|Beat|District|Ward|Community Area|FBI Code|X Coordinate|Y Coordinate|Year|          Updated On|    Latitude|    Longitude|            Location|\n",
            "+--------+-----------+----+--------------------+----+--------------------+--------------------+--------------------+------+--------+----+--------+----+--------------+--------+------------+------------+----+--------------------+------------+-------------+--------------------+\n",
            "|      ID|Case Number|null|               Block|IUCR|        Primary Type|         Description|Location Description|Arrest|    null|Beat|District|Ward|Community Area|FBI Code|X Coordinate|Y Coordinate|null|          Updated On|        null|         null|            Location|\n",
            "|13311263|   JG503434|null|     023XX S TROY ST|1582|OFFENSE INVOLVING...|   CHILD PORNOGRAPHY|           RESIDENCE|  true|   false|1033|     010|  25|            30|      17|        null|        null|2022|04/18/2024 03:40:...|        null|         null|                null|\n",
            "|13053066|   JG103252|null|039XX W WASHINGTO...|2017|           NARCOTICS|MANUFACTURE / DEL...|            SIDEWALK|  true|   false|1122|     011|  28|            26|      18|        null|        null|2023|01/20/2024 03:41:...|        null|         null|                null|\n",
            "|11227634|   JB147599|null| 001XX W RANDOLPH ST|0281| CRIM SEXUAL ASSAULT|      NON-AGGRAVATED|         HOTEL/MOTEL| false|   false|0122|     001|  42|            32|      02|        null|        null|2017|02/11/2018 03:57:...|        null|         null|                null|\n",
            "|13203321|   JG415333|null|    002XX N Wells st|1320|     CRIMINAL DAMAGE|          TO VEHICLE|PARKING LOT / GAR...| false|   false|0122|     001|  42|            32|      14|     1174694|     1901831|2023|11/04/2023 03:40:...|41.886018055|-87.633937881|(41.886018055, -8...|\n",
            "+--------+-----------+----+--------------------+----+--------------------+--------------------+--------------------+------+--------+----+--------+----+--------------+--------+------------+------------+----+--------------------+------------+-------------+--------------------+\n",
            "only showing top 5 rows\n",
            "\n"
          ]
        }
      ]
    },
    {
      "cell_type": "markdown",
      "metadata": {
        "id": "mI_zYOVpf2yK"
      },
      "source": [
        "## (03-04) Working with columns"
      ]
    },
    {
      "cell_type": "markdown",
      "metadata": {
        "id": "WvOfJmzhf0kG"
      },
      "source": [
        "**Display only the first 5 rows of the column name IUCR**"
      ]
    },
    {
      "cell_type": "code",
      "execution_count": 32,
      "metadata": {
        "id": "808f1HzwgDyh",
        "colab": {
          "base_uri": "https://localhost:8080/",
          "height": 141
        },
        "outputId": "db71a6a3-0ea5-4767-817e-eabdcb0507fc"
      },
      "outputs": [
        {
          "output_type": "error",
          "ename": "NameError",
          "evalue": "name 'df' is not defined",
          "traceback": [
            "\u001b[0;31m---------------------------------------------------------------------------\u001b[0m",
            "\u001b[0;31mNameError\u001b[0m                                 Traceback (most recent call last)",
            "\u001b[0;32m<ipython-input-32-bc773a5ad6bc>\u001b[0m in \u001b[0;36m<cell line: 0>\u001b[0;34m()\u001b[0m\n\u001b[0;32m----> 1\u001b[0;31m \u001b[0mdf\u001b[0m\u001b[0;34m.\u001b[0m\u001b[0mcolumn1\u001b[0m\u001b[0;34m\u001b[0m\u001b[0;34m\u001b[0m\u001b[0m\n\u001b[0m",
            "\u001b[0;31mNameError\u001b[0m: name 'df' is not defined"
          ]
        }
      ],
      "source": [
        "df.column1\n",
        "df['column1']\n",
        "\n",
        "df.select(col('column1'))\n",
        "\n",
        "df.select('column1','column2').show(5)\n",
        "\n",
        "df.withColumn('DoubleColumn',2*df['Acolumn'])\n",
        "\n",
        "df.withColumnRenamed(ExistingColumnName,NewColumnName)\n",
        "\n",
        "df.drop('columnName1','columnName2','columnName3')\n",
        "\n",
        "df.groupBy('column')"
      ]
    },
    {
      "cell_type": "code",
      "execution_count": 33,
      "metadata": {
        "id": "LZNgF-PFyJl0",
        "colab": {
          "base_uri": "https://localhost:8080/"
        },
        "outputId": "b1b2a0c5-1c75-4946-fb6f-5aebde8d18ff"
      },
      "outputs": [
        {
          "output_type": "stream",
          "name": "stdout",
          "text": [
            "+----+\n",
            "|IUCR|\n",
            "+----+\n",
            "|IUCR|\n",
            "|1582|\n",
            "|2017|\n",
            "|0281|\n",
            "|1320|\n",
            "|0810|\n",
            "|0620|\n",
            "|1544|\n",
            "|0340|\n",
            "|0910|\n",
            "+----+\n",
            "only showing top 10 rows\n",
            "\n"
          ]
        }
      ],
      "source": [
        "rc.select('IUCR').show(10)"
      ]
    },
    {
      "cell_type": "code",
      "execution_count": 34,
      "metadata": {
        "id": "_G1rHnJbyJl0",
        "colab": {
          "base_uri": "https://localhost:8080/"
        },
        "outputId": "69bb7930-b6fc-44ee-85d7-916c94f25158"
      },
      "outputs": [
        {
          "output_type": "stream",
          "name": "stdout",
          "text": [
            "+----+\n",
            "|IUCR|\n",
            "+----+\n",
            "|IUCR|\n",
            "|1582|\n",
            "|2017|\n",
            "|0281|\n",
            "|1320|\n",
            "+----+\n",
            "only showing top 5 rows\n",
            "\n"
          ]
        }
      ],
      "source": [
        "rc.select(rc.IUCR).show(5)"
      ]
    },
    {
      "cell_type": "code",
      "execution_count": 36,
      "metadata": {
        "id": "uP_fcMxGyJl0",
        "colab": {
          "base_uri": "https://localhost:8080/"
        },
        "outputId": "2e807a88-1471-472d-9b54-4822d426267d"
      },
      "outputs": [
        {
          "output_type": "stream",
          "name": "stdout",
          "text": [
            "+----+\n",
            "|IUCR|\n",
            "+----+\n",
            "|IUCR|\n",
            "|1582|\n",
            "|2017|\n",
            "|0281|\n",
            "|1320|\n",
            "+----+\n",
            "only showing top 5 rows\n",
            "\n"
          ]
        }
      ],
      "source": [
        "rc.select(col('IUCR')).show(5)"
      ]
    },
    {
      "cell_type": "markdown",
      "metadata": {
        "id": "A4u5vp73gEtB"
      },
      "source": [
        "  **Display only the first 4 rows of the column names Case Number, Date and Arrest**"
      ]
    },
    {
      "cell_type": "code",
      "execution_count": 37,
      "metadata": {
        "id": "vWhJLf41yJl1",
        "colab": {
          "base_uri": "https://localhost:8080/"
        },
        "outputId": "61534a90-9f8e-4a75-89bf-497f23ce8684"
      },
      "outputs": [
        {
          "output_type": "stream",
          "name": "stdout",
          "text": [
            "+-----------+----+------+\n",
            "|Case Number|Date|Arrest|\n",
            "+-----------+----+------+\n",
            "|Case Number|null|Arrest|\n",
            "|   JG503434|null|  true|\n",
            "|   JG103252|null|  true|\n",
            "|   JB147599|null| false|\n",
            "|   JG415333|null| false|\n",
            "+-----------+----+------+\n",
            "only showing top 5 rows\n",
            "\n"
          ]
        }
      ],
      "source": [
        "rc.select('Case Number', 'Date', 'Arrest').show(5)"
      ]
    },
    {
      "cell_type": "code",
      "execution_count": null,
      "metadata": {
        "id": "tV73d_TkyJl1"
      },
      "outputs": [],
      "source": []
    },
    {
      "cell_type": "code",
      "execution_count": null,
      "metadata": {
        "id": "sltirSelyJl1"
      },
      "outputs": [],
      "source": []
    },
    {
      "cell_type": "code",
      "execution_count": null,
      "metadata": {
        "id": "fEyRgddhyJl1"
      },
      "outputs": [],
      "source": []
    },
    {
      "cell_type": "markdown",
      "metadata": {
        "id": "GKnmLXJWr35c"
      },
      "source": [
        "**Add a column with name One, with entries all 1s**"
      ]
    },
    {
      "cell_type": "code",
      "execution_count": null,
      "metadata": {
        "id": "_OhKvPoItNtK"
      },
      "outputs": [],
      "source": [
        "from pyspark.sql.functions import lit"
      ]
    },
    {
      "cell_type": "code",
      "execution_count": 38,
      "metadata": {
        "id": "dSA_eLl6uH3p",
        "colab": {
          "base_uri": "https://localhost:8080/"
        },
        "outputId": "29769c5c-1c99-4819-b5a3-7dd13aaea0ff"
      },
      "outputs": [
        {
          "output_type": "stream",
          "name": "stdout",
          "text": [
            "+--------+-----------+----+--------------------+----+--------------------+--------------------+--------------------+------+--------+----+--------+----+--------------+--------+------------+------------+----+--------------------+------------+-------------+--------------------+---+\n",
            "|      ID|Case Number|Date|               Block|IUCR|        Primary Type|         Description|Location Description|Arrest|Domestic|Beat|District|Ward|Community Area|FBI Code|X Coordinate|Y Coordinate|Year|          Updated On|    Latitude|    Longitude|            Location|one|\n",
            "+--------+-----------+----+--------------------+----+--------------------+--------------------+--------------------+------+--------+----+--------+----+--------------+--------+------------+------------+----+--------------------+------------+-------------+--------------------+---+\n",
            "|      ID|Case Number|null|               Block|IUCR|        Primary Type|         Description|Location Description|Arrest|    null|Beat|District|Ward|Community Area|FBI Code|X Coordinate|Y Coordinate|null|          Updated On|        null|         null|            Location|  1|\n",
            "|13311263|   JG503434|null|     023XX S TROY ST|1582|OFFENSE INVOLVING...|   CHILD PORNOGRAPHY|           RESIDENCE|  true|   false|1033|     010|  25|            30|      17|        null|        null|2022|04/18/2024 03:40:...|        null|         null|                null|  1|\n",
            "|13053066|   JG103252|null|039XX W WASHINGTO...|2017|           NARCOTICS|MANUFACTURE / DEL...|            SIDEWALK|  true|   false|1122|     011|  28|            26|      18|        null|        null|2023|01/20/2024 03:41:...|        null|         null|                null|  1|\n",
            "|11227634|   JB147599|null| 001XX W RANDOLPH ST|0281| CRIM SEXUAL ASSAULT|      NON-AGGRAVATED|         HOTEL/MOTEL| false|   false|0122|     001|  42|            32|      02|        null|        null|2017|02/11/2018 03:57:...|        null|         null|                null|  1|\n",
            "|13203321|   JG415333|null|    002XX N Wells st|1320|     CRIMINAL DAMAGE|          TO VEHICLE|PARKING LOT / GAR...| false|   false|0122|     001|  42|            32|      14|     1174694|     1901831|2023|11/04/2023 03:40:...|41.886018055|-87.633937881|(41.886018055, -8...|  1|\n",
            "+--------+-----------+----+--------------------+----+--------------------+--------------------+--------------------+------+--------+----+--------+----+--------------+--------+------------+------------+----+--------------------+------------+-------------+--------------------+---+\n",
            "only showing top 5 rows\n",
            "\n"
          ]
        }
      ],
      "source": [
        "rc.withColumn('one',lit(1)).show(5)"
      ]
    },
    {
      "cell_type": "code",
      "execution_count": null,
      "metadata": {
        "id": "LsweBKZNuHzA"
      },
      "outputs": [],
      "source": []
    },
    {
      "cell_type": "markdown",
      "metadata": {
        "id": "BKV2ymA2uI2h"
      },
      "source": [
        "**Remove the column IUCR**"
      ]
    },
    {
      "cell_type": "code",
      "execution_count": null,
      "metadata": {
        "id": "3wr2Q9djtXBV"
      },
      "outputs": [],
      "source": [
        "rc = rc.drop('IUCR')\n",
        "RC.SHOW(5)"
      ]
    },
    {
      "cell_type": "code",
      "execution_count": null,
      "metadata": {
        "id": "3HBJev2Ctdbo"
      },
      "outputs": [],
      "source": []
    },
    {
      "cell_type": "code",
      "source": [],
      "metadata": {
        "id": "O738q3tQyyRR"
      },
      "execution_count": null,
      "outputs": []
    },
    {
      "cell_type": "markdown",
      "metadata": {
        "id": "NiU1nhA3y0j4"
      },
      "source": [
        "## (03-05) Working with rows"
      ]
    },
    {
      "cell_type": "markdown",
      "metadata": {
        "id": "hgnCWSfNZsLV"
      },
      "source": [
        "**Add the reported crimes for an additional day, 12-Nov-2018, to our dataset.**"
      ]
    },
    {
      "cell_type": "code",
      "execution_count": null,
      "metadata": {
        "id": "52EiVt15y0j4"
      },
      "outputs": [],
      "source": [
        "df.filter(col('column'> 1))\n",
        "\n",
        "df.select(column).distinct().show()\n",
        "\n",
        "df.orderBy(col('column'))\n",
        "\n",
        "df.union(df2)"
      ]
    },
    {
      "cell_type": "code",
      "execution_count": 39,
      "metadata": {
        "id": "Lg5XEVXiy0j4",
        "colab": {
          "base_uri": "https://localhost:8080/"
        },
        "outputId": "2dd9dfb4-bda7-4f9a-eb6e-e9db85bf9ad6"
      },
      "outputs": [
        {
          "output_type": "stream",
          "name": "stdout",
          "text": [
            "+--------+-----------+-------------------+--------------------+----+-------------------+--------------------+--------------------+------+--------+----+--------+----+--------------+--------+------------+------------+----+--------------------+------------+-------------+--------------------+\n",
            "|      ID|Case Number|               Date|               Block|IUCR|       Primary Type|         Description|Location Description|Arrest|Domestic|Beat|District|Ward|Community Area|FBI Code|X Coordinate|Y Coordinate|Year|          Updated On|    Latitude|    Longitude|            Location|\n",
            "+--------+-----------+-------------------+--------------------+----+-------------------+--------------------+--------------------+------+--------+----+--------+----+--------------+--------+------------+------------+----+--------------------+------------+-------------+--------------------+\n",
            "|11227634|   JB147599|2017-08-26 10:00:00| 001XX W RANDOLPH ST|0281|CRIM SEXUAL ASSAULT|      NON-AGGRAVATED|         HOTEL/MOTEL| false|   false|0122|     001|  42|            32|      02|        null|        null|2017|02/11/2018 03:57:...|        null|         null|                null|\n",
            "| 6255892|   HP342049|2008-05-17 18:00:00|101XX S LAFAYETTE...|031A|            ROBBERY|     ARMED - HANDGUN|           RESIDENCE| false|   false|0511|     005|   9|            49|      03|     1177712|     1837726|2008|01/19/2024 03:40:...|41.710039855| -87.62479561|(41.710039855, -8...|\n",
            "| 6272641|   HP358387|2008-05-27 01:00:00|   105XX S PERRY AVE|0320|            ROBBERY|STRONG ARM - NO W...|              STREET| false|    true|0512|     005|   9|            49|      03|     1177463|     1835161|2008|01/19/2024 03:40:...|41.703006756|-87.625784664|(41.703006756, -8...|\n",
            "| 6438609|   HP496499|2008-08-05 22:37:00|   126XX S UNION AVE|031A|            ROBBERY|     ARMED - HANDGUN|SCHOOL - PUBLIC G...| false|   false|0523|     005|   9|            53|      03|     1173953|     1821073|2008|01/19/2024 03:40:...|41.664425476|-87.639053139|(41.664425476, -8...|\n",
            "| 6680276|   HP754070|2008-12-27 20:00:00|  058XX N MANTON AVE|0610|           BURGLARY|      FORCIBLE ENTRY|  RESIDENCE - GARAGE| false|   false|1622|     016|  39|            11|      05|     1137225|     1938474|2008|01/19/2024 03:40:...|  41.9873259|-87.770650405|(41.9873259, -87....|\n",
            "+--------+-----------+-------------------+--------------------+----+-------------------+--------------------+--------------------+------+--------+----+--------+----+--------------+--------+------------+------------+----+--------------------+------------+-------------+--------------------+\n",
            "only showing top 5 rows\n",
            "\n"
          ]
        }
      ],
      "source": [
        "from pyspark.sql.functions import to_timestamp,col,lit\n",
        "rc = spark.read.csv('reported-crimes.csv',header=True).withColumn('Date',to_timestamp(col('Date'),'MM/dd/yyyy hh:mm:ss a')).filter(col('Date') <= lit('2018-11-11'))\n",
        "rc.show(5)\n",
        ""
      ]
    },
    {
      "cell_type": "code",
      "execution_count": 41,
      "metadata": {
        "id": "cZY70_Dzy0j4",
        "colab": {
          "base_uri": "https://localhost:8080/"
        },
        "outputId": "ae5a7f3b-c308-4618-e511-482f513d5d3f"
      },
      "outputs": [
        {
          "output_type": "execute_result",
          "data": {
            "text/plain": [
              "5"
            ]
          },
          "metadata": {},
          "execution_count": 41
        }
      ],
      "source": [
        "one_day = spark.read.csv('reported-crimes.csv',header=True).withColumn('Date',to_timestamp(col('Date'),'MM/dd/yyyy hh:mm:ss a')).filter(col('Date') == lit('2018-11-12'))\n",
        "one_day.count()"
      ]
    },
    {
      "cell_type": "code",
      "execution_count": 42,
      "metadata": {
        "id": "0AWxi1tfy0j4",
        "colab": {
          "base_uri": "https://localhost:8080/"
        },
        "outputId": "e73c9ad8-e141-4bff-d0ef-c89a8bef501b"
      },
      "outputs": [
        {
          "output_type": "stream",
          "name": "stdout",
          "text": [
            "+--------+-----------+-------------------+--------------------+----+-------------------+--------------------+--------------------+------+--------+----+--------+----+--------------+--------+------------+------------+----+--------------------+------------+-------------+--------------------+\n",
            "|      ID|Case Number|               Date|               Block|IUCR|       Primary Type|         Description|Location Description|Arrest|Domestic|Beat|District|Ward|Community Area|FBI Code|X Coordinate|Y Coordinate|Year|          Updated On|    Latitude|    Longitude|            Location|\n",
            "+--------+-----------+-------------------+--------------------+----+-------------------+--------------------+--------------------+------+--------+----+--------+----+--------------+--------+------------+------------+----+--------------------+------------+-------------+--------------------+\n",
            "|11227634|   JB147599|2017-08-26 10:00:00| 001XX W RANDOLPH ST|0281|CRIM SEXUAL ASSAULT|      NON-AGGRAVATED|         HOTEL/MOTEL| false|   false|0122|     001|  42|            32|      02|        null|        null|2017|02/11/2018 03:57:...|        null|         null|                null|\n",
            "| 6255892|   HP342049|2008-05-17 18:00:00|101XX S LAFAYETTE...|031A|            ROBBERY|     ARMED - HANDGUN|           RESIDENCE| false|   false|0511|     005|   9|            49|      03|     1177712|     1837726|2008|01/19/2024 03:40:...|41.710039855| -87.62479561|(41.710039855, -8...|\n",
            "| 6272641|   HP358387|2008-05-27 01:00:00|   105XX S PERRY AVE|0320|            ROBBERY|STRONG ARM - NO W...|              STREET| false|    true|0512|     005|   9|            49|      03|     1177463|     1835161|2008|01/19/2024 03:40:...|41.703006756|-87.625784664|(41.703006756, -8...|\n",
            "| 6438609|   HP496499|2008-08-05 22:37:00|   126XX S UNION AVE|031A|            ROBBERY|     ARMED - HANDGUN|SCHOOL - PUBLIC G...| false|   false|0523|     005|   9|            53|      03|     1173953|     1821073|2008|01/19/2024 03:40:...|41.664425476|-87.639053139|(41.664425476, -8...|\n",
            "| 6680276|   HP754070|2008-12-27 20:00:00|  058XX N MANTON AVE|0610|           BURGLARY|      FORCIBLE ENTRY|  RESIDENCE - GARAGE| false|   false|1622|     016|  39|            11|      05|     1137225|     1938474|2008|01/19/2024 03:40:...|  41.9873259|-87.770650405|(41.9873259, -87....|\n",
            "+--------+-----------+-------------------+--------------------+----+-------------------+--------------------+--------------------+------+--------+----+--------+----+--------------+--------+------------+------------+----+--------------------+------------+-------------+--------------------+\n",
            "only showing top 5 rows\n",
            "\n"
          ]
        }
      ],
      "source": [
        "rc.union(one_day).show(5)"
      ]
    },
    {
      "cell_type": "code",
      "execution_count": 45,
      "metadata": {
        "id": "1fTTDzg-y0j4",
        "colab": {
          "base_uri": "https://localhost:8080/"
        },
        "outputId": "2789f59e-e5bb-47fd-e9b0-e6f265ffd317"
      },
      "outputs": [
        {
          "output_type": "stream",
          "name": "stdout",
          "text": [
            "+--------+-----------+-------------------+--------------------+----+------------------+--------------------+--------------------+------+--------+----+--------+----+--------------+--------+------------+------------+----+--------------------+------------+-------------+--------------------+\n",
            "|      ID|Case Number|               Date|               Block|IUCR|      Primary Type|         Description|Location Description|Arrest|Domestic|Beat|District|Ward|Community Area|FBI Code|X Coordinate|Y Coordinate|Year|          Updated On|    Latitude|    Longitude|            Location|\n",
            "+--------+-----------+-------------------+--------------------+----+------------------+--------------------+--------------------+------+--------+----+--------+----+--------------+--------+------------+------------+----+--------------------+------------+-------------+--------------------+\n",
            "|13358766|   JH140578|2018-11-12 00:00:00|     008XX E 63RD ST|1153|DECEPTIVE PRACTICE|FINANCIAL IDENTIT...|           APARTMENT| false|   false|0313|     003|  20|            42|      11|        null|        null|2018|02/05/2024 03:41:...|        null|         null|                null|\n",
            "|13602256|   JH434216|2018-11-12 00:00:00|050XX S BLACKSTON...|1153|DECEPTIVE PRACTICE|FINANCIAL IDENTIT...|           APARTMENT| false|   false|0222|     002|   4|            39|      11|        null|        null|2018|09/20/2024 03:40:...|        null|         null|                null|\n",
            "|11516594|   JB528186|2018-11-12 00:00:00| 049XX S PRAIRIE AVE|2826|     OTHER OFFENSE|HARASSMENT BY ELE...|               OTHER| false|   false|0224|     002|   3|            38|      26|     1178879|     1872259|2018|11/28/2018 04:14:...|41.804775828|-87.619472488|(41.804775828, -8...|\n",
            "|11540042|   JB559262|2018-11-12 00:00:00| 010XX N DEARBORN ST|1140|DECEPTIVE PRACTICE|        EMBEZZLEMENT|   CONVENIENCE STORE|  true|   false|1824|     018|   2|             8|      12|     1175747|     1907348|2018|03/16/2019 04:01:...|41.901133376|-87.629904979|(41.901133376, -8...|\n",
            "|11505149|   JB513151|2018-11-12 00:00:00|  003XX S WHIPPLE ST|0810|             THEFT|           OVER $500|              STREET| false|   false|1124|     011|  28|            27|      06|     1156099|     1898319|2018|11/19/2018 04:22:...|41.876776356|-87.702317641|(41.876776356, -8...|\n",
            "+--------+-----------+-------------------+--------------------+----+------------------+--------------------+--------------------+------+--------+----+--------+----+--------------+--------+------------+------------+----+--------------------+------------+-------------+--------------------+\n",
            "only showing top 5 rows\n",
            "\n"
          ]
        }
      ],
      "source": [
        "rc.union(one_day).orderBy('Date', ascending = False).show(5)"
      ]
    },
    {
      "cell_type": "code",
      "execution_count": null,
      "metadata": {
        "id": "PyPd5oppy0j4"
      },
      "outputs": [],
      "source": []
    },
    {
      "cell_type": "markdown",
      "metadata": {
        "id": "rzaD3gLyy0j4"
      },
      "source": [
        "**What are the top 10 number of reported crimes by Primary type, in descending order of occurence?**"
      ]
    },
    {
      "cell_type": "code",
      "execution_count": 44,
      "metadata": {
        "id": "vl3SHZdty0j5",
        "colab": {
          "base_uri": "https://localhost:8080/"
        },
        "outputId": "b2158b5d-dae4-48bf-e6f2-b549bee43246"
      },
      "outputs": [
        {
          "output_type": "stream",
          "name": "stdout",
          "text": [
            "+--------------------+-------+\n",
            "|        Primary Type|  count|\n",
            "+--------------------+-------+\n",
            "|OFFENSE INVOLVING...|  47060|\n",
            "|CRIMINAL SEXUAL A...|   1694|\n",
            "|            STALKING|   3389|\n",
            "|PUBLIC PEACE VIOL...|  47785|\n",
            "|           OBSCENITY|    586|\n",
            "|               ARSON|  11157|\n",
            "|   DOMESTIC VIOLENCE|      1|\n",
            "|            GAMBLING|  14422|\n",
            "|   CRIMINAL TRESPASS| 193373|\n",
            "|             ASSAULT| 418526|\n",
            "|LIQUOR LAW VIOLATION|  14068|\n",
            "| MOTOR VEHICLE THEFT| 314135|\n",
            "|               THEFT|1418539|\n",
            "|             BATTERY|1232303|\n",
            "|             ROBBERY| 255604|\n",
            "|            HOMICIDE|   9478|\n",
            "|           RITUALISM|     23|\n",
            "|    PUBLIC INDECENCY|    161|\n",
            "| CRIM SEXUAL ASSAULT|  26193|\n",
            "|   HUMAN TRAFFICKING|     50|\n",
            "+--------------------+-------+\n",
            "only showing top 20 rows\n",
            "\n"
          ]
        }
      ],
      "source": [
        "rc.groupBy('Primary Type').count().show()"
      ]
    },
    {
      "cell_type": "code",
      "execution_count": 46,
      "metadata": {
        "id": "CwuOpT8Uy0j5",
        "colab": {
          "base_uri": "https://localhost:8080/"
        },
        "outputId": "3975251b-cf49-40ac-db67-08abb6a54b4f"
      },
      "outputs": [
        {
          "output_type": "stream",
          "name": "stdout",
          "text": [
            "+-------------------+-------+\n",
            "|       Primary Type|  count|\n",
            "+-------------------+-------+\n",
            "|              THEFT|1418539|\n",
            "|            BATTERY|1232303|\n",
            "|    CRIMINAL DAMAGE| 771526|\n",
            "|          NARCOTICS| 711780|\n",
            "|      OTHER OFFENSE| 419059|\n",
            "|            ASSAULT| 418526|\n",
            "|           BURGLARY| 388040|\n",
            "|MOTOR VEHICLE THEFT| 314135|\n",
            "| DECEPTIVE PRACTICE| 267597|\n",
            "|            ROBBERY| 255604|\n",
            "+-------------------+-------+\n",
            "only showing top 10 rows\n",
            "\n"
          ]
        }
      ],
      "source": [
        "rc.groupBy('Primary Type').count().orderBy('count', ascending=False).show(10)"
      ]
    },
    {
      "cell_type": "code",
      "execution_count": null,
      "metadata": {
        "id": "Lxr5psb0y0j5"
      },
      "outputs": [],
      "source": []
    },
    {
      "cell_type": "code",
      "execution_count": null,
      "metadata": {
        "id": "U7PBx7_7y0j5"
      },
      "outputs": [],
      "source": []
    },
    {
      "cell_type": "code",
      "execution_count": null,
      "metadata": {
        "id": "EphdHjTCy0j5"
      },
      "outputs": [],
      "source": []
    },
    {
      "cell_type": "code",
      "execution_count": null,
      "metadata": {
        "id": "nPD0MXeMy0j5"
      },
      "outputs": [],
      "source": []
    },
    {
      "cell_type": "code",
      "execution_count": null,
      "metadata": {
        "id": "wpBN1d2uy0j5"
      },
      "outputs": [],
      "source": []
    },
    {
      "cell_type": "markdown",
      "metadata": {
        "id": "9sDnyyzozVxA"
      },
      "source": [
        "## (03-06) Challenge"
      ]
    },
    {
      "cell_type": "markdown",
      "metadata": {
        "id": "OdV2UOUczVxA"
      },
      "source": [
        "**What percentage of reported crimes resulted in an arrest?**"
      ]
    },
    {
      "cell_type": "code",
      "execution_count": 47,
      "metadata": {
        "id": "-3yQ3XA3zVxB",
        "colab": {
          "base_uri": "https://localhost:8080/"
        },
        "outputId": "0492ce24-467a-4c60-c872-8e36d40f3df3"
      },
      "outputs": [
        {
          "output_type": "stream",
          "name": "stdout",
          "text": [
            "+--------+-----------+-------------------+--------------------+----+-------------------+--------------------+--------------------+------+--------+----+--------+----+--------------+--------+------------+------------+----+--------------------+------------+-------------+--------------------+\n",
            "|      ID|Case Number|               Date|               Block|IUCR|       Primary Type|         Description|Location Description|Arrest|Domestic|Beat|District|Ward|Community Area|FBI Code|X Coordinate|Y Coordinate|Year|          Updated On|    Latitude|    Longitude|            Location|\n",
            "+--------+-----------+-------------------+--------------------+----+-------------------+--------------------+--------------------+------+--------+----+--------+----+--------------+--------+------------+------------+----+--------------------+------------+-------------+--------------------+\n",
            "|11227634|   JB147599|2017-08-26 10:00:00| 001XX W RANDOLPH ST|0281|CRIM SEXUAL ASSAULT|      NON-AGGRAVATED|         HOTEL/MOTEL| false|   false|0122|     001|  42|            32|      02|        null|        null|2017|02/11/2018 03:57:...|        null|         null|                null|\n",
            "| 6255892|   HP342049|2008-05-17 18:00:00|101XX S LAFAYETTE...|031A|            ROBBERY|     ARMED - HANDGUN|           RESIDENCE| false|   false|0511|     005|   9|            49|      03|     1177712|     1837726|2008|01/19/2024 03:40:...|41.710039855| -87.62479561|(41.710039855, -8...|\n",
            "| 6272641|   HP358387|2008-05-27 01:00:00|   105XX S PERRY AVE|0320|            ROBBERY|STRONG ARM - NO W...|              STREET| false|    true|0512|     005|   9|            49|      03|     1177463|     1835161|2008|01/19/2024 03:40:...|41.703006756|-87.625784664|(41.703006756, -8...|\n",
            "| 6438609|   HP496499|2008-08-05 22:37:00|   126XX S UNION AVE|031A|            ROBBERY|     ARMED - HANDGUN|SCHOOL - PUBLIC G...| false|   false|0523|     005|   9|            53|      03|     1173953|     1821073|2008|01/19/2024 03:40:...|41.664425476|-87.639053139|(41.664425476, -8...|\n",
            "| 6680276|   HP754070|2008-12-27 20:00:00|  058XX N MANTON AVE|0610|           BURGLARY|      FORCIBLE ENTRY|  RESIDENCE - GARAGE| false|   false|1622|     016|  39|            11|      05|     1137225|     1938474|2008|01/19/2024 03:40:...|  41.9873259|-87.770650405|(41.9873259, -87....|\n",
            "+--------+-----------+-------------------+--------------------+----+-------------------+--------------------+--------------------+------+--------+----+--------+----+--------------+--------+------------+------------+----+--------------------+------------+-------------+--------------------+\n",
            "only showing top 5 rows\n",
            "\n"
          ]
        }
      ],
      "source": [
        "from pyspark.sql.functions import to_timestamp,col,lit\n",
        "rc = spark.read.csv('reported-crimes.csv',header=True).withColumn('Date',to_timestamp(col('Date'),'MM/dd/yyyy hh:mm:ss a')).filter(col('Date') <= lit('2018-11-11'))\n",
        "rc.show(5)"
      ]
    },
    {
      "cell_type": "code",
      "execution_count": 48,
      "metadata": {
        "id": "rxCxcHFUzVxB",
        "colab": {
          "base_uri": "https://localhost:8080/"
        },
        "outputId": "578142fc-3b04-4e9a-ef91-9e3081efeda9"
      },
      "outputs": [
        {
          "output_type": "stream",
          "name": "stdout",
          "text": [
            "+------+\n",
            "|Arrest|\n",
            "+------+\n",
            "| false|\n",
            "|  true|\n",
            "+------+\n",
            "\n"
          ]
        }
      ],
      "source": [
        "rc.select('Arrest').distinct().show()"
      ]
    },
    {
      "cell_type": "code",
      "execution_count": 49,
      "metadata": {
        "id": "_XguGvUFzVxB",
        "colab": {
          "base_uri": "https://localhost:8080/"
        },
        "outputId": "464d5973-a1ee-426f-9a97-d6e705aa8e33"
      },
      "outputs": [
        {
          "output_type": "stream",
          "name": "stdout",
          "text": [
            "root\n",
            " |-- ID: string (nullable = true)\n",
            " |-- Case Number: string (nullable = true)\n",
            " |-- Date: timestamp (nullable = true)\n",
            " |-- Block: string (nullable = true)\n",
            " |-- IUCR: string (nullable = true)\n",
            " |-- Primary Type: string (nullable = true)\n",
            " |-- Description: string (nullable = true)\n",
            " |-- Location Description: string (nullable = true)\n",
            " |-- Arrest: string (nullable = true)\n",
            " |-- Domestic: string (nullable = true)\n",
            " |-- Beat: string (nullable = true)\n",
            " |-- District: string (nullable = true)\n",
            " |-- Ward: string (nullable = true)\n",
            " |-- Community Area: string (nullable = true)\n",
            " |-- FBI Code: string (nullable = true)\n",
            " |-- X Coordinate: string (nullable = true)\n",
            " |-- Y Coordinate: string (nullable = true)\n",
            " |-- Year: string (nullable = true)\n",
            " |-- Updated On: string (nullable = true)\n",
            " |-- Latitude: string (nullable = true)\n",
            " |-- Longitude: string (nullable = true)\n",
            " |-- Location: string (nullable = true)\n",
            "\n"
          ]
        }
      ],
      "source": [
        "rc.printSchema()"
      ]
    },
    {
      "cell_type": "code",
      "execution_count": 50,
      "metadata": {
        "id": "7zazwi5jzVxB",
        "colab": {
          "base_uri": "https://localhost:8080/"
        },
        "outputId": "1d19a526-b184-4aec-9ebd-c011c561b59e"
      },
      "outputs": [
        {
          "output_type": "execute_result",
          "data": {
            "text/plain": [
              "0.2775375625388729"
            ]
          },
          "metadata": {},
          "execution_count": 50
        }
      ],
      "source": [
        "rc.filter(col('Arrest') == 'true').count() / rc.select('Arrest').count()"
      ]
    },
    {
      "cell_type": "markdown",
      "metadata": {
        "id": "6etuZFwczVxB"
      },
      "source": [
        "  **What are the top 3 locations for reported crimes?**"
      ]
    },
    {
      "cell_type": "code",
      "execution_count": 52,
      "metadata": {
        "id": "05kJeui5zVxB",
        "colab": {
          "base_uri": "https://localhost:8080/"
        },
        "outputId": "2ad43457-9b31-4dba-e732-8dad081c85ed"
      },
      "outputs": [
        {
          "output_type": "stream",
          "name": "stdout",
          "text": [
            "+--------------------+-------+\n",
            "|Location Description|  count|\n",
            "+--------------------+-------+\n",
            "|              STREET|1770652|\n",
            "|           RESIDENCE|1146628|\n",
            "|           APARTMENT| 699472|\n",
            "+--------------------+-------+\n",
            "only showing top 3 rows\n",
            "\n"
          ]
        }
      ],
      "source": [
        "rc.groupBy('Location Description').count().orderBy('count',ascending=False).show(3)"
      ]
    },
    {
      "cell_type": "code",
      "execution_count": null,
      "metadata": {
        "id": "tXar05-8zVxB"
      },
      "outputs": [],
      "source": []
    },
    {
      "cell_type": "code",
      "execution_count": null,
      "metadata": {
        "id": "ScxfJKtMzVxB"
      },
      "outputs": [],
      "source": []
    },
    {
      "cell_type": "code",
      "execution_count": null,
      "metadata": {
        "id": "xDukHOJkzVxB"
      },
      "outputs": [],
      "source": []
    },
    {
      "cell_type": "code",
      "source": [],
      "metadata": {
        "id": "2hvwNPI907EQ"
      },
      "execution_count": null,
      "outputs": []
    },
    {
      "cell_type": "markdown",
      "metadata": {
        "id": "D7Dw2UpQ08-9"
      },
      "source": [
        "## (04-01) Built-in functions"
      ]
    },
    {
      "cell_type": "code",
      "execution_count": null,
      "metadata": {
        "id": "8b9jy_g708--"
      },
      "outputs": [],
      "source": [
        "from pyspark.sql import functions"
      ]
    },
    {
      "cell_type": "code",
      "execution_count": null,
      "metadata": {
        "id": "z7m60N3_08--"
      },
      "outputs": [],
      "source": [
        "print(dir(functions))"
      ]
    },
    {
      "cell_type": "markdown",
      "metadata": {
        "id": "1yL-b-swunTM"
      },
      "source": [
        "### String functions"
      ]
    },
    {
      "cell_type": "markdown",
      "metadata": {
        "id": "rHp9A7wyp1L4"
      },
      "source": [
        "**Display the Primary Type column in lower and upper characters, and the first 4 characters of the column**"
      ]
    },
    {
      "cell_type": "code",
      "execution_count": null,
      "metadata": {
        "id": "4HNqGQKCqE9K"
      },
      "outputs": [],
      "source": []
    },
    {
      "cell_type": "code",
      "execution_count": null,
      "metadata": {
        "id": "BgwSt2ta08--"
      },
      "outputs": [],
      "source": []
    },
    {
      "cell_type": "markdown",
      "metadata": {
        "id": "ZYDsLbbrf6dK"
      },
      "source": [
        "### Numeric functions\n"
      ]
    },
    {
      "cell_type": "markdown",
      "metadata": {
        "id": "H5CZwvAwhpCx"
      },
      "source": [
        "**Show the oldest date and the most recent date**"
      ]
    },
    {
      "cell_type": "code",
      "execution_count": null,
      "metadata": {
        "id": "oP8NWAiUuSJC"
      },
      "outputs": [],
      "source": []
    },
    {
      "cell_type": "code",
      "execution_count": null,
      "metadata": {
        "id": "juNQDv2108-_"
      },
      "outputs": [],
      "source": []
    },
    {
      "cell_type": "markdown",
      "metadata": {
        "id": "4BJvThINk7o-"
      },
      "source": [
        "### Date"
      ]
    },
    {
      "cell_type": "markdown",
      "metadata": {
        "id": "Qjh1t1XamJ-E"
      },
      "source": [
        "**What is 3 days earlier that the oldest date and 3 days later than the most recent date?**"
      ]
    },
    {
      "cell_type": "code",
      "execution_count": null,
      "metadata": {
        "id": "NMFcA4rhlOs3"
      },
      "outputs": [],
      "source": []
    },
    {
      "cell_type": "code",
      "execution_count": null,
      "metadata": {
        "id": "6_12orCSlXPe"
      },
      "outputs": [],
      "source": []
    },
    {
      "cell_type": "code",
      "execution_count": null,
      "metadata": {
        "id": "b7gl5IbB08-_"
      },
      "outputs": [],
      "source": []
    },
    {
      "cell_type": "code",
      "execution_count": null,
      "metadata": {
        "id": "gC1spS8LhBtJ"
      },
      "outputs": [],
      "source": []
    },
    {
      "cell_type": "code",
      "source": [],
      "metadata": {
        "id": "vpb4-TQA13M6"
      },
      "execution_count": null,
      "outputs": []
    },
    {
      "cell_type": "markdown",
      "metadata": {
        "id": "hiKFyArf14B0"
      },
      "source": [
        "## (04-02) Working with dates"
      ]
    },
    {
      "cell_type": "code",
      "execution_count": null,
      "metadata": {
        "id": "9npwvNTx1SCj"
      },
      "outputs": [],
      "source": []
    },
    {
      "cell_type": "code",
      "execution_count": null,
      "metadata": {
        "id": "T72w9V0mK0K2"
      },
      "outputs": [],
      "source": []
    },
    {
      "cell_type": "code",
      "execution_count": null,
      "metadata": {
        "id": "xdelci_zKzgX"
      },
      "outputs": [],
      "source": []
    },
    {
      "cell_type": "code",
      "execution_count": null,
      "metadata": {
        "id": "XPRbC6XnKzaY"
      },
      "outputs": [],
      "source": []
    },
    {
      "cell_type": "code",
      "execution_count": null,
      "metadata": {
        "id": "eGGXo0tVQBc4"
      },
      "outputs": [],
      "source": []
    },
    {
      "cell_type": "markdown",
      "metadata": {
        "id": "WkUMZnY5yc6q"
      },
      "source": [
        "  **2019-12-25 13:30:00**"
      ]
    },
    {
      "cell_type": "code",
      "execution_count": null,
      "metadata": {
        "id": "vvFFnqmQ14B0"
      },
      "outputs": [],
      "source": [
        "\n"
      ]
    },
    {
      "cell_type": "code",
      "execution_count": null,
      "metadata": {
        "id": "87RJNjRty-W7"
      },
      "outputs": [],
      "source": []
    },
    {
      "cell_type": "code",
      "execution_count": null,
      "metadata": {
        "id": "YbSNtcMSQAiH"
      },
      "outputs": [],
      "source": []
    },
    {
      "cell_type": "markdown",
      "metadata": {
        "id": "r57RvNLFy1qr"
      },
      "source": [
        "**25/Dec/2019 13:30:00**"
      ]
    },
    {
      "cell_type": "code",
      "execution_count": null,
      "metadata": {
        "id": "qWSM7QZIy1O7"
      },
      "outputs": [],
      "source": [
        "\n"
      ]
    },
    {
      "cell_type": "code",
      "execution_count": null,
      "metadata": {
        "id": "_Bth-66Zy_na"
      },
      "outputs": [],
      "source": []
    },
    {
      "cell_type": "code",
      "execution_count": null,
      "metadata": {
        "id": "oX5JKpxiy_dT"
      },
      "outputs": [],
      "source": []
    },
    {
      "cell_type": "markdown",
      "metadata": {
        "id": "4DcjnoaKzBQr"
      },
      "source": [
        "**12/25/2019 01:30:00 PM**"
      ]
    },
    {
      "cell_type": "code",
      "execution_count": null,
      "metadata": {
        "id": "WldJB29T80O2"
      },
      "outputs": [],
      "source": []
    },
    {
      "cell_type": "code",
      "execution_count": null,
      "metadata": {
        "id": "SqOg9qzQRAbi"
      },
      "outputs": [],
      "source": []
    },
    {
      "cell_type": "code",
      "execution_count": null,
      "metadata": {
        "id": "YupfXKVpRhg6"
      },
      "outputs": [],
      "source": []
    },
    {
      "cell_type": "code",
      "source": [],
      "metadata": {
        "id": "6SwZtjvL2Ugj"
      },
      "execution_count": null,
      "outputs": []
    },
    {
      "cell_type": "markdown",
      "metadata": {
        "id": "9lAyzg282V_4"
      },
      "source": [
        "## (04-03) Joins"
      ]
    },
    {
      "cell_type": "markdown",
      "metadata": {
        "id": "5klVM9jJZBDl"
      },
      "source": [
        "**Download police station data**"
      ]
    },
    {
      "cell_type": "code",
      "execution_count": null,
      "metadata": {
        "id": "c7CFhY3K2V_5"
      },
      "outputs": [],
      "source": []
    },
    {
      "cell_type": "code",
      "execution_count": null,
      "metadata": {
        "id": "R47fcwV82V_5"
      },
      "outputs": [],
      "source": []
    },
    {
      "cell_type": "code",
      "execution_count": null,
      "metadata": {
        "id": "3-igLcB-wyWG"
      },
      "outputs": [],
      "source": []
    },
    {
      "cell_type": "code",
      "execution_count": null,
      "metadata": {
        "id": "Wz8D-NF2wyQb"
      },
      "outputs": [],
      "source": []
    },
    {
      "cell_type": "markdown",
      "metadata": {
        "id": "CdBqB9Oiw0gV"
      },
      "source": [
        "**The reported crimes dataset has only the district number. Add the district name by joining with the police station dataset**"
      ]
    },
    {
      "cell_type": "code",
      "execution_count": null,
      "metadata": {
        "id": "S84o4-yZ2V_5"
      },
      "outputs": [],
      "source": []
    },
    {
      "cell_type": "code",
      "execution_count": null,
      "metadata": {
        "id": "GP90Bm-lc52-"
      },
      "outputs": [],
      "source": []
    },
    {
      "cell_type": "code",
      "execution_count": null,
      "metadata": {
        "id": "zbdoVA6Gc6mG"
      },
      "outputs": [],
      "source": []
    },
    {
      "cell_type": "code",
      "execution_count": null,
      "metadata": {
        "id": "V06UpJ4Tc7oJ"
      },
      "outputs": [],
      "source": []
    },
    {
      "cell_type": "code",
      "execution_count": null,
      "metadata": {
        "id": "S_YiRfSgc7em"
      },
      "outputs": [],
      "source": []
    },
    {
      "cell_type": "code",
      "execution_count": null,
      "metadata": {
        "id": "nWQMpWQec7SO"
      },
      "outputs": [],
      "source": []
    },
    {
      "cell_type": "code",
      "execution_count": null,
      "metadata": {
        "id": "n4eBu-vMc6bN"
      },
      "outputs": [],
      "source": []
    },
    {
      "cell_type": "code",
      "execution_count": null,
      "metadata": {
        "id": "8CR9XUeCc6Tn"
      },
      "outputs": [],
      "source": []
    },
    {
      "cell_type": "code",
      "execution_count": null,
      "metadata": {
        "id": "PxL3DKpPc6KG"
      },
      "outputs": [],
      "source": []
    },
    {
      "cell_type": "code",
      "source": [],
      "metadata": {
        "id": "WtFqwWp73ARQ"
      },
      "execution_count": null,
      "outputs": []
    },
    {
      "cell_type": "markdown",
      "metadata": {
        "id": "-aQQ2gBF3Azz"
      },
      "source": [
        "## (04-05) Challenge questions"
      ]
    },
    {
      "cell_type": "markdown",
      "metadata": {
        "id": "AopcTx5q3Az0"
      },
      "source": [
        "**What is the most frequently reported non-criminal activity?**"
      ]
    },
    {
      "cell_type": "code",
      "execution_count": null,
      "metadata": {
        "id": "PEw5vyF63Az0"
      },
      "outputs": [],
      "source": []
    },
    {
      "cell_type": "code",
      "execution_count": null,
      "metadata": {
        "id": "p1k8sxcY3Az0"
      },
      "outputs": [],
      "source": []
    },
    {
      "cell_type": "code",
      "execution_count": null,
      "metadata": {
        "id": "cODrDxdb3Az0"
      },
      "outputs": [],
      "source": []
    },
    {
      "cell_type": "code",
      "execution_count": null,
      "metadata": {
        "id": "Vf5DPbQ43Az0"
      },
      "outputs": [],
      "source": []
    },
    {
      "cell_type": "code",
      "execution_count": null,
      "metadata": {
        "id": "5uC0WTu8KI59"
      },
      "outputs": [],
      "source": []
    },
    {
      "cell_type": "code",
      "execution_count": null,
      "metadata": {
        "id": "AHOdjsiBKI0W"
      },
      "outputs": [],
      "source": []
    },
    {
      "cell_type": "code",
      "execution_count": null,
      "metadata": {
        "id": "e5J1WQkBKIuN"
      },
      "outputs": [],
      "source": []
    },
    {
      "cell_type": "code",
      "execution_count": null,
      "metadata": {
        "id": "Sx76PSOIKImG"
      },
      "outputs": [],
      "source": []
    },
    {
      "cell_type": "markdown",
      "metadata": {
        "id": "ff7cLpWh3Az0"
      },
      "source": [
        "**Using a bar chart, plot which day of the week has the most number of reported crime.**"
      ]
    },
    {
      "cell_type": "code",
      "execution_count": null,
      "metadata": {
        "id": "mo8JV7083Az0"
      },
      "outputs": [],
      "source": []
    },
    {
      "cell_type": "code",
      "execution_count": null,
      "metadata": {
        "id": "w0UWY8A13Az0"
      },
      "outputs": [],
      "source": []
    },
    {
      "cell_type": "code",
      "execution_count": null,
      "metadata": {
        "id": "3OMXnCYr3Az0"
      },
      "outputs": [],
      "source": []
    },
    {
      "cell_type": "code",
      "execution_count": null,
      "metadata": {
        "id": "kEbySVAC3Az0"
      },
      "outputs": [],
      "source": []
    },
    {
      "cell_type": "code",
      "execution_count": null,
      "metadata": {
        "id": "bSxKI4ePKJ5j"
      },
      "outputs": [],
      "source": []
    },
    {
      "cell_type": "code",
      "execution_count": null,
      "metadata": {
        "id": "j_iQqpL1KJ2d"
      },
      "outputs": [],
      "source": []
    },
    {
      "cell_type": "code",
      "execution_count": null,
      "metadata": {
        "id": "GbcSuGRpKJzq"
      },
      "outputs": [],
      "source": []
    },
    {
      "cell_type": "code",
      "execution_count": null,
      "metadata": {
        "id": "h95xRmYbKJxE"
      },
      "outputs": [],
      "source": []
    },
    {
      "cell_type": "code",
      "source": [],
      "metadata": {
        "id": "xRxHZgpG4d5p"
      },
      "execution_count": null,
      "outputs": []
    },
    {
      "cell_type": "markdown",
      "metadata": {
        "id": "oSOpIOhJ4etN"
      },
      "source": [
        "## (05-01) RDDs setup"
      ]
    },
    {
      "cell_type": "code",
      "execution_count": null,
      "metadata": {
        "id": "xcOe8kAS4etN"
      },
      "outputs": [],
      "source": []
    },
    {
      "cell_type": "code",
      "execution_count": null,
      "metadata": {
        "id": "uxMRo2C14etN"
      },
      "outputs": [],
      "source": []
    },
    {
      "cell_type": "code",
      "execution_count": null,
      "metadata": {
        "id": "eYDxom404etN"
      },
      "outputs": [],
      "source": []
    },
    {
      "cell_type": "code",
      "execution_count": null,
      "metadata": {
        "id": "OT4nbSiJ4etN"
      },
      "outputs": [],
      "source": []
    },
    {
      "cell_type": "code",
      "execution_count": null,
      "metadata": {
        "id": "uiOTLr8N4etO"
      },
      "outputs": [],
      "source": []
    },
    {
      "cell_type": "code",
      "execution_count": null,
      "metadata": {
        "id": "FWNY2gxZ4etO"
      },
      "outputs": [],
      "source": []
    },
    {
      "cell_type": "code",
      "execution_count": null,
      "metadata": {
        "id": "nyAtd_Rl4etO"
      },
      "outputs": [],
      "source": []
    },
    {
      "cell_type": "code",
      "execution_count": null,
      "metadata": {
        "id": "fAqt2hEX4etO"
      },
      "outputs": [],
      "source": []
    },
    {
      "cell_type": "code",
      "execution_count": null,
      "metadata": {
        "id": "eG-5DmgE4etO"
      },
      "outputs": [],
      "source": []
    },
    {
      "cell_type": "code",
      "execution_count": null,
      "metadata": {
        "id": "LpAhPr-0RW0E"
      },
      "outputs": [],
      "source": []
    },
    {
      "cell_type": "markdown",
      "metadata": {
        "id": "ShYgMK6jPsSt"
      },
      "source": [
        "**How many police stations are there?**"
      ]
    },
    {
      "cell_type": "code",
      "execution_count": null,
      "metadata": {
        "id": "2FbZPk84Pwxc"
      },
      "outputs": [],
      "source": []
    },
    {
      "cell_type": "code",
      "execution_count": null,
      "metadata": {
        "id": "Iv-dVhhhPwrO"
      },
      "outputs": [],
      "source": []
    },
    {
      "cell_type": "code",
      "execution_count": null,
      "metadata": {
        "id": "cQ1u4_cpGZqs"
      },
      "outputs": [],
      "source": []
    },
    {
      "cell_type": "code",
      "execution_count": null,
      "metadata": {
        "id": "8M0_0ZW1GZCO"
      },
      "outputs": [],
      "source": []
    },
    {
      "cell_type": "markdown",
      "metadata": {
        "id": "WKYiypY0MbJ1"
      },
      "source": [
        "**Display the District ID, District name, Address and Zip for the police station with District ID 7**\n",
        "\n"
      ]
    },
    {
      "cell_type": "code",
      "execution_count": null,
      "metadata": {
        "id": "iHxLAHHq4etO"
      },
      "outputs": [],
      "source": []
    },
    {
      "cell_type": "code",
      "execution_count": null,
      "metadata": {
        "id": "Z6dW5knty7pT"
      },
      "outputs": [],
      "source": []
    },
    {
      "cell_type": "code",
      "execution_count": null,
      "metadata": {
        "id": "6rMBWoqm4etO"
      },
      "outputs": [],
      "source": []
    },
    {
      "cell_type": "code",
      "execution_count": null,
      "metadata": {
        "id": "wHgN7nVW4etP"
      },
      "outputs": [],
      "source": []
    },
    {
      "cell_type": "markdown",
      "metadata": {
        "id": "1mWxQg2mN4W7"
      },
      "source": [
        "**Police stations 10 and 11 are geographically close to each other. Display the District ID, District name, address and zip code**"
      ]
    },
    {
      "cell_type": "code",
      "execution_count": null,
      "metadata": {
        "id": "9DiIzEr-Gadn"
      },
      "outputs": [],
      "source": []
    },
    {
      "cell_type": "code",
      "execution_count": null,
      "metadata": {
        "id": "CcdG-eOk4etP"
      },
      "outputs": [],
      "source": []
    },
    {
      "cell_type": "code",
      "execution_count": null,
      "metadata": {
        "id": "KnghPtPt4etP"
      },
      "outputs": [],
      "source": []
    },
    {
      "cell_type": "code",
      "execution_count": null,
      "metadata": {
        "id": "Bvd3ldUs4etP"
      },
      "outputs": [],
      "source": []
    }
  ]
}